{
 "cells": [
  {
   "cell_type": "code",
   "execution_count": 88,
   "metadata": {
    "collapsed": false
   },
   "outputs": [
    {
     "name": "stdout",
     "output_type": "stream",
     "text": [
      "The autoreload extension is already loaded. To reload it, use:\n",
      "  %reload_ext autoreload\n"
     ]
    }
   ],
   "source": [
    "%matplotlib inline\n",
    "import numpy as np\n",
    "import matplotlib.pyplot as plt\n",
    "import math\n",
    "%load_ext autoreload\n",
    "%autoreload 2\n",
    "from pylab import*"
   ]
  },
  {
   "cell_type": "code",
   "execution_count": 89,
   "metadata": {
    "collapsed": true
   },
   "outputs": [],
   "source": [
    "data = np.genfromtxt(\"train.csv\",delimiter=\",\",skip_header=1)"
   ]
  },
  {
   "cell_type": "code",
   "execution_count": 90,
   "metadata": {
    "collapsed": false
   },
   "outputs": [],
   "source": [
    "al1Jet = data[data[:,24]>0,:]\n",
    "mt2Jet = al1Jet[al1Jet[:,24]>1,:]\n",
    "haveMMC = data[data[:,2]>0,:]\n",
    "noMMC = data[data[:,2]<0,:]\n",
    "\n",
    "MMC0Jet = haveMMC[haveMMC[:,24]==0,:]\n",
    "MMC1Jet = haveMMC[haveMMC[:,24]==1,:]\n",
    "MMC2MoreJet = haveMMC[haveMMC[:,24]>1,:]\n",
    "\n",
    "noMMC0Jet = noMMC[noMMC[:,24]==0,:]\n",
    "noMMC1Jet = noMMC[noMMC[:,24]==1,:]\n",
    "noMMC2MoreJet = noMMC[noMMC[:,24]>1,:]"
   ]
  },
  {
   "cell_type": "code",
   "execution_count": 91,
   "metadata": {
    "collapsed": false
   },
   "outputs": [
    {
     "name": "stdout",
     "output_type": "stream",
     "text": [
      "(150087, 32)\n"
     ]
    }
   ],
   "source": [
    "print(al1Jet.shape)"
   ]
  },
  {
   "cell_type": "code",
   "execution_count": 101,
   "metadata": {
    "collapsed": true
   },
   "outputs": [],
   "source": [
    "def countUndef(m):\n",
    "    return np.sum(m == -999)\n"
   ]
  },
  {
   "cell_type": "code",
   "execution_count": 102,
   "metadata": {
    "collapsed": false
   },
   "outputs": [],
   "source": [
    "def countError(a,b):\n",
    "    c = np.isscalar(a) & (a != -999) & (a != b)\n",
    "    return sum(c)"
   ]
  },
  {
   "cell_type": "code",
   "execution_count": 103,
   "metadata": {
    "collapsed": false
   },
   "outputs": [],
   "source": [
    "def undefToMeanMean(m):\n",
    "    a = np.copy(m)\n",
    "    a[a == -999] = float('nan')\n",
    "    means = np.nanmean(a,0)\n",
    "    return np.where((np.isnan(a)),means,a)"
   ]
  },
  {
   "cell_type": "code",
   "execution_count": 105,
   "metadata": {
    "collapsed": false
   },
   "outputs": [
    {
     "name": "stdout",
     "output_type": "stream",
     "text": [
      "1580052\n",
      "0\n",
      "0\n"
     ]
    },
    {
     "name": "stderr",
     "output_type": "stream",
     "text": [
      "C:\\Users\\Moi\\Anaconda3\\lib\\site-packages\\numpy\\lib\\nanfunctions.py:675: RuntimeWarning: Mean of empty slice\n",
      "  warnings.warn(\"Mean of empty slice\", RuntimeWarning)\n"
     ]
    }
   ],
   "source": [
    "# np.set_printoptions(threshold=np.inf)\n",
    "meanForUndef = undefToMeanMean(data)\n",
    "print(countUndef(data))\n",
    "print(countUndef(clean))\n",
    "print(countError(data,clean))\n"
   ]
  },
  {
   "cell_type": "code",
   "execution_count": null,
   "metadata": {
    "collapsed": true
   },
   "outputs": [],
   "source": []
  }
 ],
 "metadata": {
  "anaconda-cloud": {},
  "kernelspec": {
   "display_name": "Python [Root]",
   "language": "python",
   "name": "Python [Root]"
  },
  "language_info": {
   "codemirror_mode": {
    "name": "ipython",
    "version": 3
   },
   "file_extension": ".py",
   "mimetype": "text/x-python",
   "name": "python",
   "nbconvert_exporter": "python",
   "pygments_lexer": "ipython3",
   "version": "3.5.2"
  }
 },
 "nbformat": 4,
 "nbformat_minor": 0
}
