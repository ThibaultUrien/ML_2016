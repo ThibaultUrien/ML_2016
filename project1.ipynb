{
 "cells": [
  {
   "cell_type": "code",
   "execution_count": 37,
   "metadata": {
    "collapsed": false
   },
   "outputs": [
    {
     "name": "stdout",
     "output_type": "stream",
     "text": [
      "The autoreload extension is already loaded. To reload it, use:\n",
      "  %reload_ext autoreload\n"
     ]
    }
   ],
   "source": [
    "# Useful starting lines\n",
    "%matplotlib inline\n",
    "import numpy as np\n",
    "import matplotlib.pyplot as plt\n",
    "%load_ext autoreload\n",
    "%autoreload 2\n",
    "from helpers import *\n",
    "from plots import *\n",
    "import datetime\n",
    "import pandas as pd\n",
    "from proj1_helpers import *"
   ]
  },
  {
   "cell_type": "markdown",
   "metadata": {},
   "source": [
    "## Load the training data into feature matrix, class labels, and event ids:"
   ]
  },
  {
   "cell_type": "code",
   "execution_count": 40,
   "metadata": {
    "collapsed": false
   },
   "outputs": [],
   "source": [
    "from proj1_helpers import *\n",
    "DATA_TRAIN_PATH = 'train.csv' # TODO: download train data and supply path here \n",
    "y, tX, ids = load_csv_data(DATA_TRAIN_PATH, sub_sample=True)"
   ]
  },
  {
   "cell_type": "code",
   "execution_count": 3,
   "metadata": {
    "collapsed": false
   },
   "outputs": [
    {
     "data": {
      "text/plain": [
       "((5000, 30), (5000,))"
      ]
     },
     "execution_count": 3,
     "metadata": {},
     "output_type": "execute_result"
    }
   ],
   "source": [
    "tX.shape, y.shape"
   ]
  },
  {
   "cell_type": "code",
   "execution_count": null,
   "metadata": {
    "collapsed": false
   },
   "outputs": [],
   "source": []
  },
  {
   "cell_type": "code",
   "execution_count": 41,
   "metadata": {
    "collapsed": false
   },
   "outputs": [
    {
     "data": {
      "text/plain": [
       "(5000, 1)"
      ]
     },
     "execution_count": 41,
     "metadata": {},
     "output_type": "execute_result"
    }
   ],
   "source": [
    "y=y.reshape(len(y),1)\n",
    "y.shape"
   ]
  },
  {
   "cell_type": "code",
   "execution_count": 5,
   "metadata": {
    "collapsed": false
   },
   "outputs": [
    {
     "data": {
      "text/plain": [
       "array([[ 138.47 ,   51.655,   97.827, ...,    1.24 ,   -2.475,  113.497],\n",
       "       [ 160.937,   68.768,  103.235, ..., -999.   , -999.   ,   46.226],\n",
       "       [-999.   ,  162.172,  125.953, ..., -999.   , -999.   ,   44.251],\n",
       "       ..., \n",
       "       [ 105.457,   60.526,   75.839, ..., -999.   , -999.   ,   41.992],\n",
       "       [  94.951,   19.362,   68.812, ..., -999.   , -999.   ,    0.   ],\n",
       "       [-999.   ,   72.756,   70.831, ..., -999.   , -999.   ,    0.   ]])"
      ]
     },
     "execution_count": 5,
     "metadata": {},
     "output_type": "execute_result"
    }
   ],
   "source": [
    "tX.shape"
   ]
  },
  {
   "cell_type": "code",
   "execution_count": 41,
   "metadata": {
    "collapsed": false
   },
   "outputs": [],
   "source": [
    "df= pd.read_csv(DATA_TRAIN_PATH)"
   ]
  },
  {
   "cell_type": "markdown",
   "metadata": {},
   "source": [
    "In the following code section, we choose how do we deal with the datas. This part is extremly important since the method we choose is going to change the predictions. We have roughly two methods to deal with outliers, we tried both and we are going to compare them.\n",
    "\n",
    "The method function returns the matrix we are going to work with. If argument 1 is chosen, we will use the first method and with argument 2 the second method."
   ]
  },
  {
   "cell_type": "markdown",
   "metadata": {},
   "source": [
    "### First method\n",
    "We remove all columns containing -999. using remove_outlier_columns function."
   ]
  },
  {
   "cell_type": "code",
   "execution_count": 42,
   "metadata": {
    "collapsed": false
   },
   "outputs": [
    {
     "data": {
      "text/plain": [
       "(5000, 20)"
      ]
     },
     "execution_count": 42,
     "metadata": {},
     "output_type": "execute_result"
    }
   ],
   "source": [
    "new_tX, new_mean, new_std = method(1,tX)\n",
    "new_tX.shape"
   ]
  },
  {
   "cell_type": "markdown",
   "metadata": {},
   "source": [
    "### Second method\n",
    "We transform all the -999. values by the mean of the columns (calculated without counting the -999.)"
   ]
  },
  {
   "cell_type": "code",
   "execution_count": 43,
   "metadata": {
    "collapsed": false
   },
   "outputs": [
    {
     "data": {
      "text/plain": [
       "array([[  1.00000000e+00,   3.07797572e-01,   3.96543618e-02, ...,\n",
       "          1.13700709e+00,  -2.39839608e+00,   3.98182143e-01],\n",
       "       [  1.00000000e+00,   1.78768046e+00,   6.33440608e-01, ...,\n",
       "         -1.02859606e-16,   4.80781369e-16,  -2.31796107e-01],\n",
       "       [  1.00000000e+00,  -5.67586021e-01,  -6.41518864e-01, ...,\n",
       "         -1.02859606e-16,   4.80781369e-16,  -1.08298366e-01],\n",
       "       ..., \n",
       "       [  1.00000000e+00,   3.78993993e-01,  -1.22366112e+00, ...,\n",
       "         -1.02859606e-16,   4.80781369e-16,   2.34160770e-01],\n",
       "       [  1.00000000e+00,  -7.99685985e-01,  -1.12174093e-01, ...,\n",
       "         -1.02859606e-16,   4.80781369e-16,  -4.11062512e-01],\n",
       "       [  1.00000000e+00,   1.53027534e-01,  -1.31829705e+00, ...,\n",
       "         -1.02859606e-16,   4.80781369e-16,  -2.25396588e-01]])"
      ]
     },
     "execution_count": 43,
     "metadata": {},
     "output_type": "execute_result"
    }
   ],
   "source": [
    "mean_tX, mean_mean, mean__std = method(2,tX)\n",
    "mean_tX"
   ]
  },
  {
   "cell_type": "markdown",
   "metadata": {},
   "source": [
    "For each method 1 and 2, we will implement the 6 ML methods asked in the step 2 of the project description and will compare them."
   ]
  },
  {
   "cell_type": "markdown",
   "metadata": {},
   "source": [
    "### Third method\n",
    "NOT REALLY A METHOD"
   ]
  },
  {
   "cell_type": "code",
   "execution_count": 20,
   "metadata": {
    "collapsed": false
   },
   "outputs": [],
   "source": [
    "dup_tX, dup_mean, dup_std= method(3, tX)"
   ]
  },
  {
   "cell_type": "markdown",
   "metadata": {},
   "source": [
    "# Linear regression\n",
    "### with gradient descent method"
   ]
  },
  {
   "cell_type": "markdown",
   "metadata": {},
   "source": [
    "We define the parameters of the algorithm"
   ]
  },
  {
   "cell_type": "code",
   "execution_count": 45,
   "metadata": {
    "collapsed": true
   },
   "outputs": [],
   "source": [
    "max_iters = 501\n",
    "gamma = 0.04\n",
    "initial_w1 = np.zeros((new_tX.shape[1], 1))\n",
    "initial_w2 = np.zeros((mean_tX.shape[1], 1))"
   ]
  },
  {
   "cell_type": "markdown",
   "metadata": {},
   "source": [
    "Method 1: We remove outliers"
   ]
  },
  {
   "cell_type": "code",
   "execution_count": 47,
   "metadata": {
    "collapsed": false
   },
   "outputs": [
    {
     "name": "stdout",
     "output_type": "stream",
     "text": [
      "Gradient Descent(0/500): loss=0.5\n",
      "Gradient Descent(100/500): loss=0.34664069018483407\n",
      "Gradient Descent(200/500): loss=0.3420824627689666\n",
      "Gradient Descent(300/500): loss=0.34050984134672735\n",
      "Gradient Descent(400/500): loss=0.33992347569151465\n",
      "Gradient Descent(500/500): loss=0.33969186313755456\n",
      "Gradient Descent(500/500): loss=0.33969186313755456\n",
      "Gradient Descent: execution time=0.118 seconds\n"
     ]
    }
   ],
   "source": [
    "start_time = datetime.datetime.now()\n",
    "best_ws1= least_square_GD(y, new_tX, initial_w1, gamma,max_iters)\n",
    "end_time = datetime.datetime.now()\n",
    "\n",
    "# Print result\n",
    "exection_time = (end_time - start_time).total_seconds()\n",
    "print(\"Gradient Descent: execution time={t:.3f} seconds\".format(t=exection_time))"
   ]
  },
  {
   "cell_type": "markdown",
   "metadata": {},
   "source": [
    "Method 2: We change outliers with mean values"
   ]
  },
  {
   "cell_type": "code",
   "execution_count": 25,
   "metadata": {
    "collapsed": false,
    "scrolled": true
   },
   "outputs": [
    {
     "name": "stdout",
     "output_type": "stream",
     "text": [
      "Gradient Descent(0/500): loss=0.5\n",
      "Gradient Descent(100/500): loss=0.3338048617023286\n",
      "Gradient Descent(200/500): loss=0.32988750586239085\n",
      "Gradient Descent(300/500): loss=0.3285278951623448\n",
      "Gradient Descent(400/500): loss=0.3279773616673182\n",
      "Gradient Descent(500/500): loss=0.32773906243490547\n",
      "Gradient Descent(500/500): loss=0.32773906243490547\n",
      "Gradient Descent: execution time=0.139 seconds\n"
     ]
    }
   ],
   "source": [
    "start_time = datetime.datetime.now()\n",
    "best_ws2 = least_square_GD(y, mean_tX, initial_w2, gamma,max_iters)\n",
    "end_time = datetime.datetime.now()\n",
    "\n",
    "# Print result\n",
    "exection_time = (end_time - start_time).total_seconds()\n",
    "print(\"Gradient Descent: execution time={t:.3f} seconds\".format(t=exection_time))"
   ]
  },
  {
   "cell_type": "code",
   "execution_count": null,
   "metadata": {
    "collapsed": true
   },
   "outputs": [],
   "source": []
  },
  {
   "cell_type": "code",
   "execution_count": 68,
   "metadata": {
    "collapsed": false
   },
   "outputs": [
    {
     "name": "stdout",
     "output_type": "stream",
     "text": [
      "********************************\n",
      "gamma = 0.0001\n",
      "Gradient Descent(0/500): loss=0.5\n",
      "0.472245388411\n",
      "Gradient Descent(0/500): loss=0.5\n",
      "Gradient Descent(0/500): loss=0.5\n",
      "[[ -1.67519766e-02]\n",
      " [ -1.59144751e-02]\n",
      " [ -1.15579856e-03]\n",
      " [  9.05122265e-03]\n",
      " [ -9.91640692e-05]\n",
      " [ -6.62015700e-04]\n",
      " [  7.11828044e-03]\n",
      " [ -8.14714472e-03]\n",
      " [  1.32524530e-02]\n",
      " [  1.08453024e-02]\n",
      " [  9.31979065e-04]\n",
      " [ -6.52961322e-04]\n",
      " [ -9.59912575e-04]\n",
      " [  1.52536302e-03]\n",
      " [  9.19723137e-04]\n",
      " [  1.20628685e-03]\n",
      " [  6.10990122e-04]\n",
      " [  6.01373156e-03]\n",
      " [  6.89387283e-03]\n",
      " [  6.23700385e-03]]\n",
      "********************************\n",
      "********************************\n",
      "gamma = 0.000150989716062\n",
      "Gradient Descent(0/500): loss=0.5\n",
      "0.461027127212\n",
      "Gradient Descent(0/500): loss=0.5\n",
      "Gradient Descent(0/500): loss=0.5\n",
      "[[-0.02497668]\n",
      " [-0.02340521]\n",
      " [-0.00166424]\n",
      " [ 0.01287531]\n",
      " [ 0.00025028]\n",
      " [-0.00128259]\n",
      " [ 0.00997267]\n",
      " [-0.01195202]\n",
      " [ 0.01930253]\n",
      " [ 0.01577494]\n",
      " [ 0.00138024]\n",
      " [-0.00096435]\n",
      " [-0.00144229]\n",
      " [ 0.00224701]\n",
      " [ 0.00135566]\n",
      " [ 0.00146599]\n",
      " [ 0.00087026]\n",
      " [ 0.00832704]\n",
      " [ 0.00971826]\n",
      " [ 0.00863737]]\n",
      "********************************\n",
      "********************************\n",
      "gamma = 0.000227978943564\n",
      "Gradient Descent(0/500): loss=0.5\n",
      "0.446781872924\n",
      "Gradient Descent(0/500): loss=0.5\n",
      "Gradient Descent(0/500): loss=0.5\n",
      "[[-0.03700446]\n",
      " [-0.03400385]\n",
      " [-0.0023487 ]\n",
      " [ 0.01783045]\n",
      " [ 0.00117606]\n",
      " [-0.00249027]\n",
      " [ 0.01348948]\n",
      " [-0.01728509]\n",
      " [ 0.02766889]\n",
      " [ 0.02256948]\n",
      " [ 0.00202425]\n",
      " [-0.00140815]\n",
      " [-0.0021243 ]\n",
      " [ 0.00327189]\n",
      " [ 0.00197642]\n",
      " [ 0.00151861]\n",
      " [ 0.00120497]\n",
      " [ 0.01104857]\n",
      " [ 0.01326856]\n",
      " [ 0.01146284]]\n",
      "********************************\n",
      "********************************\n",
      "gamma = 0.000344224759569\n",
      "Gradient Descent(0/500): loss=0.5\n",
      "0.429755853746\n",
      "Gradient Descent(0/500): loss=0.5\n",
      "Gradient Descent(0/500): loss=0.5\n",
      "[[-0.05430986]\n",
      " [-0.04856328]\n",
      " [-0.0032332 ]\n",
      " [ 0.02381629]\n",
      " [ 0.00326469]\n",
      " [-0.0047581 ]\n",
      " [ 0.01737163]\n",
      " [-0.02447768]\n",
      " [ 0.03881679]\n",
      " [ 0.03158417]\n",
      " [ 0.00292581]\n",
      " [-0.0020213 ]\n",
      " [-0.00298711]\n",
      " [ 0.0046865 ]\n",
      " [ 0.00283789]\n",
      " [ 0.00104035]\n",
      " [ 0.00160105]\n",
      " [ 0.01376733]\n",
      " [ 0.01732699]\n",
      " [ 0.014289  ]]\n",
      "********************************\n",
      "********************************\n",
      "gamma = 0.000519743987087\n",
      "Gradient Descent(0/500): loss=0.5\n",
      "0.41077297608\n",
      "Gradient Descent(0/500): loss=0.5\n",
      "Gradient Descent(0/500): loss=0.5\n",
      "[[-0.07860492]\n",
      " [-0.06776098]\n",
      " [-0.00434028]\n",
      " [ 0.0304    ]\n",
      " [ 0.00743803]\n",
      " [-0.00875964]\n",
      " [ 0.02095314]\n",
      " [-0.03362392]\n",
      " [ 0.05297796]\n",
      " [ 0.04298273]\n",
      " [ 0.00413847]\n",
      " [-0.00282849]\n",
      " [-0.00378693]\n",
      " [ 0.00656157]\n",
      " [ 0.00399225]\n",
      " [-0.00041251]\n",
      " [ 0.00200407]\n",
      " [ 0.01564828]\n",
      " [ 0.02132982]\n",
      " [ 0.01625389]]\n",
      "********************************\n",
      "********************************\n",
      "gamma = 0.000784759970351\n",
      "Gradient Descent(0/500): loss=0.5\n",
      "0.391195201787\n",
      "Gradient Descent(0/500): loss=0.5\n",
      "Gradient Descent(0/500): loss=0.5\n",
      "[[-0.11147397]\n",
      " [-0.09171265]\n",
      " [-0.00576141]\n",
      " [ 0.03688612]\n",
      " [ 0.01484173]\n",
      " [-0.01518448]\n",
      " [ 0.02332656]\n",
      " [-0.04425119]\n",
      " [ 0.06996371]\n",
      " [ 0.05662829]\n",
      " [ 0.0056713 ]\n",
      " [-0.00381486]\n",
      " [-0.00371957]\n",
      " [ 0.00890962]\n",
      " [ 0.00546804]\n",
      " [-0.00313368]\n",
      " [ 0.00229912]\n",
      " [ 0.01552432]\n",
      " [ 0.02442959]\n",
      " [ 0.01615857]]\n",
      "********************************\n",
      "********************************\n",
      "gamma = 0.001184906851\n",
      "Gradient Descent(0/500): loss=0.5\n",
      "0.372813543287\n",
      "Gradient Descent(0/500): loss=0.5\n",
      "Gradient Descent(0/500): loss=0.5\n",
      "[[-0.15353335]\n",
      " [-0.11949648]\n",
      " [-0.00788605]\n",
      " [ 0.0427111 ]\n",
      " [ 0.0263999 ]\n",
      " [-0.02422709]\n",
      " [ 0.0238681 ]\n",
      " [-0.05499618]\n",
      " [ 0.08904694]\n",
      " [ 0.07211035]\n",
      " [ 0.00742734]\n",
      " [-0.00489059]\n",
      " [-0.00100118]\n",
      " [ 0.01162487]\n",
      " [ 0.00723769]\n",
      " [-0.00664777]\n",
      " [ 0.00230614]\n",
      " [ 0.01237789]\n",
      " [ 0.02590587]\n",
      " [ 0.0129852 ]]\n",
      "********************************\n",
      "********************************\n",
      "gamma = 0.00178908748992\n",
      "Gradient Descent(0/500): loss=0.5\n",
      "0.357534352271\n",
      "Gradient Descent(0/500): loss=0.5\n",
      "Gradient Descent(0/500): loss=0.5\n",
      "[[-0.20302813]\n",
      " [-0.14884816]\n",
      " [-0.011863  ]\n",
      " [ 0.04781018]\n",
      " [ 0.04220963]\n",
      " [-0.03491236]\n",
      " [ 0.02280774]\n",
      " [-0.06375569]\n",
      " [ 0.10886078]\n",
      " [ 0.08890848]\n",
      " [ 0.00913895]\n",
      " [-0.00587918]\n",
      " [ 0.00709378]\n",
      " [ 0.01443304]\n",
      " [ 0.00917341]\n",
      " [-0.00909389]\n",
      " [ 0.0018122 ]\n",
      " [ 0.00590881]\n",
      " [ 0.02573372]\n",
      " [ 0.00653545]]\n",
      "********************************\n",
      "********************************\n",
      "gamma = 0.00270133812113\n",
      "Gradient Descent(0/500): loss=0.5\n",
      "0.346616013404\n",
      "Gradient Descent(0/500): loss=0.5\n",
      "Gradient Descent(0/500): loss=0.5\n",
      "[[-0.2543935 ]\n",
      " [-0.17652702]\n",
      " [-0.02008021]\n",
      " [ 0.05214973]\n",
      " [ 0.06145838]\n",
      " [-0.04486095]\n",
      " [ 0.02099994]\n",
      " [-0.06892681]\n",
      " [ 0.12723788]\n",
      " [ 0.10657975]\n",
      " [ 0.01038406]\n",
      " [-0.00657879]\n",
      " [ 0.02297558]\n",
      " [ 0.01692802]\n",
      " [ 0.01101678]\n",
      " [-0.00752413]\n",
      " [ 0.00067031]\n",
      " [-0.00358323]\n",
      " [ 0.02475598]\n",
      " [-0.00261073]]\n",
      "********************************\n",
      "********************************\n",
      "gamma = 0.00407874275897\n",
      "Gradient Descent(0/500): loss=0.5\n",
      "0.339872214585\n",
      "Gradient Descent(0/500): loss=0.5\n",
      "Gradient Descent(0/500): loss=0.5\n",
      "[[-0.29856491]\n",
      " [-0.19972713]\n",
      " [-0.03584063]\n",
      " [ 0.05467686]\n",
      " [ 0.08333085]\n",
      " [-0.05097914]\n",
      " [ 0.01910676]\n",
      " [-0.07129904]\n",
      " [ 0.14153385]\n",
      " [ 0.12505374]\n",
      " [ 0.01080305]\n",
      " [-0.00688141]\n",
      " [ 0.04687666]\n",
      " [ 0.01878532]\n",
      " [ 0.01244029]\n",
      " [ 0.00055674]\n",
      " [-0.00101321]\n",
      " [-0.01583112]\n",
      " [ 0.02458895]\n",
      " [-0.01371588]]\n",
      "********************************\n",
      "********************************\n",
      "gamma = 0.00615848211066\n",
      "Gradient Descent(0/500): loss=0.5\n",
      "0.335774393662\n",
      "Gradient Descent(0/500): loss=0.5\n",
      "Gradient Descent(0/500): loss=0.5\n",
      "[[-0.32727879]\n",
      " [-0.2176387 ]\n",
      " [-0.06149893]\n",
      " [ 0.05324967]\n",
      " [ 0.10824213]\n",
      " [-0.05112042]\n",
      " [ 0.01752574]\n",
      " [-0.07420521]\n",
      " [ 0.14999547]\n",
      " [ 0.14475496]\n",
      " [ 0.01045203]\n",
      " [-0.00680824]\n",
      " [ 0.07695395]\n",
      " [ 0.0200258 ]\n",
      " [ 0.01324772]\n",
      " [ 0.01557133]\n",
      " [-0.0027537 ]\n",
      " [-0.0305898 ]\n",
      " [ 0.02778583]\n",
      " [-0.02601633]]\n",
      "********************************\n",
      "********************************\n",
      "gamma = 0.00929867465261\n",
      "Gradient Descent(0/500): loss=0.5\n",
      "0.332807586806\n",
      "Gradient Descent(0/500): loss=0.5\n",
      "Gradient Descent(0/500): loss=0.5\n",
      "[[-0.33962052]\n",
      " [-0.23138142]\n",
      " [-0.09650853]\n",
      " [ 0.04589552]\n",
      " [ 0.13752704]\n",
      " [-0.04613442]\n",
      " [ 0.01676579]\n",
      " [-0.08088993]\n",
      " [ 0.15304937]\n",
      " [ 0.16566721]\n",
      " [ 0.00985316]\n",
      " [-0.00640201]\n",
      " [ 0.11169927]\n",
      " [ 0.0209137 ]\n",
      " [ 0.01354913]\n",
      " [ 0.03568728]\n",
      " [-0.00398613]\n",
      " [-0.0471736 ]\n",
      " [ 0.03713561]\n",
      " [-0.0385972 ]]\n",
      "********************************\n",
      "********************************\n",
      "gamma = 0.0140400424555\n",
      "Gradient Descent(0/500): loss=0.5\n",
      "0.330479482329\n",
      "Gradient Descent(0/500): loss=0.5\n",
      "Gradient Descent(0/500): loss=0.5\n",
      "[[-0.34251257]\n",
      " [-0.24248641]\n",
      " [-0.13744401]\n",
      " [ 0.03225621]\n",
      " [ 0.17067283]\n",
      " [-0.03969221]\n",
      " [ 0.01717496]\n",
      " [-0.09266238]\n",
      " [ 0.15295009]\n",
      " [ 0.18618744]\n",
      " [ 0.00952965]\n",
      " [-0.0056893 ]\n",
      " [ 0.15061551]\n",
      " [ 0.02154388]\n",
      " [ 0.01364778]\n",
      " [ 0.05824768]\n",
      " [-0.00462771]\n",
      " [-0.06415036]\n",
      " [ 0.05319928]\n",
      " [-0.05061333]]\n",
      "********************************\n",
      "********************************\n",
      "gamma = 0.0211990202385\n",
      "Gradient Descent(0/500): loss=0.5\n",
      "0.328864567963\n",
      "Gradient Descent(0/500): loss=0.5\n",
      "Gradient Descent(0/500): loss=0.5\n",
      "[[-0.34279254]\n",
      " [-0.25180529]\n",
      " [-0.17847607]\n",
      " [ 0.01413135]\n",
      " [ 0.20343768]\n",
      " [-0.03478475]\n",
      " [ 0.01849637]\n",
      " [-0.10934749]\n",
      " [ 0.15212609]\n",
      " [ 0.20315463]\n",
      " [ 0.00962046]\n",
      " [-0.00478953]\n",
      " [ 0.19192687]\n",
      " [ 0.02185093]\n",
      " [ 0.01372903]\n",
      " [ 0.08068066]\n",
      " [-0.00500995]\n",
      " [-0.07905389]\n",
      " [ 0.0724221 ]\n",
      " [-0.06132973]]\n",
      "********************************\n",
      "********************************\n",
      "gamma = 0.032008340466\n",
      "Gradient Descent(0/500): loss=0.5\n",
      "0.327974792076\n",
      "Gradient Descent(0/500): loss=0.5\n",
      "Gradient Descent(0/500): loss=0.5\n",
      "[[-0.34279997]\n",
      " [-0.2595209 ]\n",
      " [-0.21215744]\n",
      " [-0.00485932]\n",
      " [ 0.22958541]\n",
      " [-0.0319028 ]\n",
      " [ 0.02005786]\n",
      " [-0.1290604 ]\n",
      " [ 0.15191165]\n",
      " [ 0.21310394]\n",
      " [ 0.00993235]\n",
      " [-0.0039331 ]\n",
      " [ 0.23084738]\n",
      " [ 0.0219193 ]\n",
      " [ 0.01378733]\n",
      " [ 0.10001604]\n",
      " [-0.00532818]\n",
      " [-0.08902852]\n",
      " [ 0.08891749]\n",
      " [-0.06979699]]\n",
      "********************************\n",
      "********************************\n",
      "gamma = 0.0483293023857\n",
      "Gradient Descent(0/500): loss=0.5\n",
      "0.327628578796\n",
      "Gradient Descent(0/500): loss=0.5\n",
      "Gradient Descent(0/500): loss=0.5\n",
      "[[-0.3428    ]\n",
      " [-0.26522817]\n",
      " [-0.23307757]\n",
      " [-0.02034518]\n",
      " [ 0.24500037]\n",
      " [-0.03060046]\n",
      " [ 0.02128806]\n",
      " [-0.14754985]\n",
      " [ 0.15235747]\n",
      " [ 0.21523493]\n",
      " [ 0.01021561]\n",
      " [-0.0033191 ]\n",
      " [ 0.26084516]\n",
      " [ 0.02191644]\n",
      " [ 0.01379701]\n",
      " [ 0.11340839]\n",
      " [-0.00557738]\n",
      " [-0.09308415]\n",
      " [ 0.09885269]\n",
      " [-0.0751359 ]]\n",
      "********************************\n",
      "********************************\n",
      "gamma = 0.0729722764469\n",
      "Gradient Descent(0/500): loss=0.5\n",
      "0.32754944191\n",
      "Gradient Descent(0/500): loss=0.5\n",
      "Gradient Descent(0/500): loss=0.5\n",
      "[[-0.3428    ]\n",
      " [-0.26843369]\n",
      " [-0.24202511]\n",
      " [-0.02938722]\n",
      " [ 0.25101907]\n",
      " [-0.03027084]\n",
      " [ 0.02196819]\n",
      " [-0.15997663]\n",
      " [ 0.15289639]\n",
      " [ 0.21322118]\n",
      " [ 0.01037063]\n",
      " [-0.00300199]\n",
      " [ 0.27794318]\n",
      " [ 0.02191241]\n",
      " [ 0.01378033]\n",
      " [ 0.1201404 ]\n",
      " [-0.00572496]\n",
      " [-0.09341952]\n",
      " [ 0.10279611]\n",
      " [-0.07752894]]\n",
      "********************************\n",
      "********************************\n",
      "gamma = 0.110180633011\n",
      "Gradient Descent(0/500): loss=0.5\n",
      "0.32754089367\n",
      "Gradient Descent(0/500): loss=0.5\n",
      "Gradient Descent(0/500): loss=0.5\n",
      "[[-0.3428    ]\n",
      " [-0.26955275]\n",
      " [-0.24444897]\n",
      " [-0.0326077 ]\n",
      " [ 0.2524497 ]\n",
      " [-0.03026029]\n",
      " [ 0.02221056]\n",
      " [-0.1651363 ]\n",
      " [ 0.1531472 ]\n",
      " [ 0.21150233]\n",
      " [ 0.01042363]\n",
      " [-0.00289626]\n",
      " [ 0.28422178]\n",
      " [ 0.02191144]\n",
      " [ 0.01376764]\n",
      " [ 0.12227474]\n",
      " [-0.00578124]\n",
      " [-0.09302238]\n",
      " [ 0.10374061]\n",
      " [-0.07821047]]\n",
      "********************************\n",
      "********************************\n",
      "gamma = 0.166361424938\n",
      "Gradient Descent(0/500): loss=0.5\n",
      "0.327540411353\n",
      "Gradient Descent(0/500): loss=0.5\n",
      "Gradient Descent(0/500): loss=0.5\n",
      "[[-0.3428    ]\n",
      " [-0.26973058]\n",
      " [-0.24483614]\n",
      " [-0.03312888]\n",
      " [ 0.25266507]\n",
      " [-0.0302693 ]\n",
      " [ 0.02225383]\n",
      " [-0.16623055]\n",
      " [ 0.15318729]\n",
      " [ 0.2110403 ]\n",
      " [ 0.01043333]\n",
      " [-0.00287754]\n",
      " [ 0.28543922]\n",
      " [ 0.02191101]\n",
      " [ 0.01376442]\n",
      " [ 0.12260471]\n",
      " [-0.00579253]\n",
      " [-0.09290601]\n",
      " [ 0.10386579]\n",
      " [-0.07831758]]\n",
      "********************************\n",
      "********************************\n",
      "gamma = 0.251188643151\n",
      "Gradient Descent(0/500): loss=0.5\n",
      "0.327540325524\n",
      "Gradient Descent(0/500): loss=0.5\n",
      "Gradient Descent(0/500): loss=0.5\n",
      "[[-0.3428    ]\n",
      " [-0.2697342 ]\n",
      " [-0.24486755]\n",
      " [-0.03314103]\n",
      " [ 0.2526869 ]\n",
      " [-0.0302702 ]\n",
      " [ 0.02225395]\n",
      " [-0.16632607]\n",
      " [ 0.15318616]\n",
      " [ 0.21099527]\n",
      " [ 0.01043405]\n",
      " [-0.00287629]\n",
      " [ 0.28553426]\n",
      " [ 0.02191088]\n",
      " [ 0.01376414]\n",
      " [ 0.12261519]\n",
      " [-0.00579346]\n",
      " [-0.09289917]\n",
      " [ 0.10387342]\n",
      " [-0.07832374]]\n",
      "********************************\n"
     ]
    },
    {
     "data": {
      "image/png": "[encoded data removed]",
      "text/plain": [
       "<matplotlib.figure.Figure at 0x20664b127f0>"
      ]
     },
     "metadata": {},
     "output_type": "display_data"
    }
   ],
   "source": [
    "gammas = np.logspace(-4,-0.6,20)\n",
    "mean_if_undef = []\n",
    "del_if_undef = []\n",
    "for gamma in gammas:\n",
    "    lossU2M = compute_loss_mse(y,mean_tX, least_square_GD(y, mean_tX, initial_w2, gamma,max_iters)\n",
    "    mean_if_undef.append(lossU2M)\n",
    "    lossUD = compute_loss_mse(y,new_tX, least_square_GD(y, new_tX, initial_w1, gamma,max_iters))\n",
    "    \n",
    "    del_if_undef.append(lossUD)\n",
    "undefinded_remplacement_visualization(gammas,mean_if_undef,\"mean for undefined\",del_if_undef,\"delet undefine\")"
   ]
  },
  {
   "cell_type": "markdown",
   "metadata": {},
   "source": [
    "### with stochastique gradient descent"
   ]
  },
  {
   "cell_type": "code",
   "execution_count": 71,
   "metadata": {
    "collapsed": true
   },
   "outputs": [],
   "source": [
    "# Define the parameters of the algorithm.\n",
    "max_iters = 21\n",
    "batch_size=1\n",
    "initial_w1 = np.zeros((new_tX.shape[1], 1))\n",
    "initial_w2 = np.zeros((mean_tX.shape[1], 1))\n",
    "\n",
    "# For the moment we use this gamma\n",
    "gamma = 0.0004\n",
    "\n"
   ]
  },
  {
   "cell_type": "markdown",
   "metadata": {},
   "source": [
    "Method 1"
   ]
  },
  {
   "cell_type": "code",
   "execution_count": 64,
   "metadata": {
    "collapsed": false
   },
   "outputs": [
    {
     "name": "stdout",
     "output_type": "stream",
     "text": [
      "Gradient Descent(0/20): loss=0.3535142666213228\n",
      "Gradient Descent(10/20): loss=0.34023996639823273\n",
      "Gradient Descent(20/20): loss=0.34031509649490976\n",
      "SGD: execution time=12.530 seconds\n"
     ]
    }
   ],
   "source": [
    "# Start SGD.\n",
    "start_time = datetime.datetime.now()\n",
    "sgd_w  = least_square_SGD(y, new_tX, batch_size, initial_w1, max_iters, gamma)\n",
    "end_time = datetime.datetime.now()\n",
    "\n",
    "# Print result\n",
    "exection_time = (end_time - start_time).total_seconds()\n",
    "print(\"SGD: execution time={t:.3f} seconds\".format(t=exection_time))"
   ]
  },
  {
   "cell_type": "markdown",
   "metadata": {},
   "source": [
    "Method 2"
   ]
  },
  {
   "cell_type": "code",
   "execution_count": 65,
   "metadata": {
    "collapsed": false
   },
   "outputs": [
    {
     "name": "stdout",
     "output_type": "stream",
     "text": [
      "Gradient Descent(0/20): loss=0.34021643318913264\n",
      "Gradient Descent(10/20): loss=0.32851879948084595\n",
      "Gradient Descent(20/20): loss=0.3288403940775238\n",
      "SGD: execution time=13.672 seconds\n"
     ]
    }
   ],
   "source": [
    "# Start SGD.\n",
    "start_time = datetime.datetime.now()\n",
    "sgd_w  = least_square_SGD(y, mean_tX, batch_size, initial_w2, max_iters, gamma)\n",
    "end_time = datetime.datetime.now()\n",
    "\n",
    "# Print result\n",
    "exection_time = (end_time - start_time).total_seconds()\n",
    "print(\"SGD: execution time={t:.3f} seconds\".format(t=exection_time))"
   ]
  },
  {
   "cell_type": "code",
   "execution_count": 76,
   "metadata": {
    "collapsed": false
   },
   "outputs": [
    {
     "data": {
      "image/png": "[encoded data removed]",
      "text/plain": [
       "<matplotlib.figure.Figure at 0x2066595a080>"
      ]
     },
     "metadata": {},
     "output_type": "display_data"
    }
   ],
   "source": [
    "gammas = np.logspace(-4,-3,10)\n",
    "mean_if_undef = []\n",
    "del_if_undef = []\n",
    "for gamma in gammas:\n",
    "    \n",
    "    lossU2M = compute_loss_mse(y,mean_tX, least_square_SGD(y, mean_tX,batch_size, initial_w2,max_iters, gamma))\n",
    "    mean_if_undef.append(lossU2M)\n",
    "    \n",
    "    lossUD = compute_loss_mse(y,new_tX, least_square_SGD(y, new_tX,batch_size, initial_w1,max_iters, gamma))\n",
    "    del_if_undef.append(lossUD)\n",
    "undefinded_remplacement_visualization(gammas,mean_if_undef,\"mean for undefined\",del_if_undef,\"delet undefine\")"
   ]
  },
  {
   "cell_type": "markdown",
   "metadata": {},
   "source": [
    "# Least square method"
   ]
  },
  {
   "cell_type": "markdown",
   "metadata": {},
   "source": [
    "Method 1"
   ]
  },
  {
   "cell_type": "code",
   "execution_count": 56,
   "metadata": {
    "collapsed": false
   },
   "outputs": [
    {
     "name": "stdout",
     "output_type": "stream",
     "text": [
      "(20, 1)\n",
      "0.339347093912\n"
     ]
    }
   ],
   "source": [
    "ls_weight1, ls_mse1= least_squares(y,new_tX)\n",
    "print(ls_weight1.shape)\n",
    "print(ls_mse1)"
   ]
  },
  {
   "cell_type": "markdown",
   "metadata": {},
   "source": [
    "Method 2"
   ]
  },
  {
   "cell_type": "code",
   "execution_count": 57,
   "metadata": {
    "collapsed": false
   },
   "outputs": [
    {
     "name": "stdout",
     "output_type": "stream",
     "text": [
      "(31, 1)\n",
      "0.327358937889\n"
     ]
    }
   ],
   "source": [
    "ls_weight2, ls_mse2= least_squares(y,mean_tX)\n",
    "print(ls_weight2.shape)\n",
    "print(ls_mse2)"
   ]
  },
  {
   "cell_type": "markdown",
   "metadata": {
    "collapsed": true
   },
   "source": [
    "# Ridge Regression"
   ]
  },
  {
   "cell_type": "markdown",
   "metadata": {},
   "source": [
    "Define lambda parameter"
   ]
  },
  {
   "cell_type": "code",
   "execution_count": 73,
   "metadata": {
    "collapsed": true
   },
   "outputs": [],
   "source": [
    "lambda_= 0.01"
   ]
  },
  {
   "cell_type": "markdown",
   "metadata": {},
   "source": [
    "Method 1"
   ]
  },
  {
   "cell_type": "code",
   "execution_count": 74,
   "metadata": {
    "collapsed": false
   },
   "outputs": [
    {
     "data": {
      "text/plain": [
       "((20, 1), 0.33991486297221218)"
      ]
     },
     "execution_count": 74,
     "metadata": {},
     "output_type": "execute_result"
    }
   ],
   "source": [
    "rr_w1, rr_mse1 = ridge_regression(y, new_tX, lambda_)\n",
    "rr_w1.shape, rr_mse1"
   ]
  },
  {
   "cell_type": "markdown",
   "metadata": {},
   "source": [
    "Method 2"
   ]
  },
  {
   "cell_type": "code",
   "execution_count": 75,
   "metadata": {
    "collapsed": false
   },
   "outputs": [
    {
     "data": {
      "text/plain": [
       "((31, 1), 0.32791004500139143)"
      ]
     },
     "execution_count": 75,
     "metadata": {},
     "output_type": "execute_result"
    }
   ],
   "source": [
    "rr_w2, rr_mse2 = ridge_regression(y, mean_tX, lambda_)\n",
    "rr_w2.shape, rr_mse2"
   ]
  },
  {
   "cell_type": "markdown",
   "metadata": {},
   "source": [
    "# Logistic Regression"
   ]
  },
  {
   "cell_type": "markdown",
   "metadata": {},
   "source": [
    "Only for logistic regression, we change all -1 of y variable into 0, so that we can reuse all the functions we have already implemented for the course."
   ]
  },
  {
   "cell_type": "code",
   "execution_count": 76,
   "metadata": {
    "collapsed": true
   },
   "outputs": [],
   "source": [
    "y[y==-1] = 0"
   ]
  },
  {
   "cell_type": "markdown",
   "metadata": {
    "collapsed": true
   },
   "source": [
    "### with gradient descent method"
   ]
  },
  {
   "cell_type": "markdown",
   "metadata": {},
   "source": [
    "We define some parameters."
   ]
  },
  {
   "cell_type": "code",
   "execution_count": 93,
   "metadata": {
    "collapsed": true
   },
   "outputs": [],
   "source": [
    "max_iters_gr = 1501\n",
    "alpha_gr = 0.00007"
   ]
  },
  {
   "cell_type": "markdown",
   "metadata": {},
   "source": [
    "We call logistic regression with gradient descent -> with true argument "
   ]
  },
  {
   "cell_type": "markdown",
   "metadata": {},
   "source": [
    "Method 1"
   ]
  },
  {
   "cell_type": "code",
   "execution_count": 103,
   "metadata": {
    "collapsed": false
   },
   "outputs": [
    {
     "name": "stdout",
     "output_type": "stream",
     "text": [
      "Current iteration=0, the loss=3465.735902799727\n",
      "Current iteration=200, the loss=2519.935860886566\n",
      "Current iteration=400, the loss=2503.971027748691\n",
      "Current iteration=600, the loss=2500.5371291791503\n",
      "Current iteration=800, the loss=2499.6369512030624\n",
      "Current iteration=1000, the loss=2499.3769424022385\n",
      "Current iteration=1200, the loss=2499.2979090108206\n",
      "Current iteration=1400, the loss=2499.2731955062186\n",
      "The loss=2499.268177831087\n",
      "SGD: execution time=2.305 seconds\n"
     ]
    }
   ],
   "source": [
    "# Start SGD.\n",
    "start_time = datetime.datetime.now()\n",
    "log_loss1,log_w1 = logistic_regression(y, new_tX, initial_w1, alpha_gr, max_iters_gr, True)\n",
    "end_time = datetime.datetime.now()\n",
    "\n",
    "# Print result\n",
    "exection_time = (end_time - start_time).total_seconds()\n",
    "print(\"SGD: execution time={t:.3f} seconds\".format(t=exection_time))"
   ]
  },
  {
   "cell_type": "markdown",
   "metadata": {},
   "source": [
    "Method 2"
   ]
  },
  {
   "cell_type": "code",
   "execution_count": 98,
   "metadata": {
    "collapsed": false
   },
   "outputs": [
    {
     "name": "stdout",
     "output_type": "stream",
     "text": [
      "Current iteration=0, the loss=3465.735902799727\n",
      "Current iteration=200, the loss=2441.741568859311\n",
      "Current iteration=400, the loss=2427.069526851878\n",
      "Current iteration=600, the loss=2423.3358966891474\n",
      "Current iteration=800, the loss=2422.1111050467716\n",
      "Current iteration=1000, the loss=2421.6670754042498\n",
      "Current iteration=1200, the loss=2421.4979986190306\n",
      "Current iteration=1400, the loss=2421.431848726739\n",
      "The loss=2421.4157403313693\n",
      "SGD: execution time=3.813 seconds\n"
     ]
    }
   ],
   "source": [
    "# Start SGD.\n",
    "start_time = datetime.datetime.now()\n",
    "log_loss2,log_w2 = logistic_regression(y, mean_tX, initial_w2, alpha_gr, max_iters_gr, threshold, True)\n",
    "end_time = datetime.datetime.now()\n",
    "\n",
    "# Print result\n",
    "exection_time = (end_time - start_time).total_seconds()\n",
    "print(\"SGD: execution time={t:.3f} seconds\".format(t=exection_time))"
   ]
  },
  {
   "cell_type": "markdown",
   "metadata": {},
   "source": [
    "### with newton's method"
   ]
  },
  {
   "cell_type": "markdown",
   "metadata": {},
   "source": [
    "define some parameters"
   ]
  },
  {
   "cell_type": "code",
   "execution_count": 122,
   "metadata": {
    "collapsed": true
   },
   "outputs": [],
   "source": [
    "max_iters_newt = 1001\n",
    "alpha_newt = 0.03"
   ]
  },
  {
   "cell_type": "markdown",
   "metadata": {},
   "source": [
    "We call logistic regression with newton method --> with false argument "
   ]
  },
  {
   "cell_type": "markdown",
   "metadata": {},
   "source": [
    "method 1"
   ]
  },
  {
   "cell_type": "code",
   "execution_count": 123,
   "metadata": {
    "collapsed": false
   },
   "outputs": [
    {
     "name": "stdout",
     "output_type": "stream",
     "text": [
      "Current iteration=0, the loss=3465.735902799727\n",
      "Current iteration=200, the loss=2498.1164969445135\n",
      "Current iteration=400, the loss=2498.102099654334\n",
      "Current iteration=600, the loss=2498.102099580248\n",
      "Current iteration=800, the loss=2498.102099580261\n",
      "Current iteration=1000, the loss=2498.102099580381\n",
      "The loss=2498.102099580381\n"
     ]
    }
   ],
   "source": [
    "# Start Newton method.\n",
    "start_time = datetime.datetime.now()\n",
    "l,w = logistic_regression(y, new_tX, initial_w1, alpha_newt, max_iters_newt, False)\n",
    "end_time = datetime.datetime.now()\n",
    "\n",
    "# Print result\n",
    "exection_time = (end_time - start_time).total_seconds()\n",
    "print(\"SGD: execution time={t:.3f} seconds\".format(t=exection_time))"
   ]
  },
  {
   "cell_type": "markdown",
   "metadata": {},
   "source": [
    "method 2"
   ]
  },
  {
   "cell_type": "code",
   "execution_count": 124,
   "metadata": {
    "collapsed": false
   },
   "outputs": [
    {
     "name": "stdout",
     "output_type": "stream",
     "text": [
      "Current iteration=0, the loss=3465.735902799727\n",
      "Current iteration=200, the loss=2420.126749375004\n",
      "Current iteration=400, the loss=2420.1104725396935\n",
      "Current iteration=600, the loss=2420.1104724559727\n",
      "Current iteration=800, the loss=2420.110472455921\n",
      "Current iteration=1000, the loss=2420.1104724558772\n",
      "The loss=2420.1104724558772\n",
      "SGD: execution time=2.614 seconds\n"
     ]
    }
   ],
   "source": [
    "# Start Newton method.\n",
    "start_time = datetime.datetime.now()\n",
    "l,w = logistic_regression(y, mean_tX, initial_w2, alpha_newt, max_iters_newt, False)\n",
    "end_time = datetime.datetime.now()\n",
    "\n",
    "# Print result\n",
    "exection_time = (end_time - start_time).total_seconds()\n",
    "print(\"SGD: execution time={t:.3f} seconds\".format(t=exection_time))"
   ]
  },
  {
   "cell_type": "markdown",
   "metadata": {},
   "source": [
    "# Penalized Logistic Regression\n",
    "### with gradient descent"
   ]
  },
  {
   "cell_type": "markdown",
   "metadata": {},
   "source": [
    "Define some parameters"
   ]
  },
  {
   "cell_type": "code",
   "execution_count": 28,
   "metadata": {
    "collapsed": false
   },
   "outputs": [],
   "source": [
    "max_iter = 1001\n",
    "alpha = 0.00001\n",
    "lambda_ = 0.0001\n",
    "threshold = 1e-8\n",
    "initial_w = np.zeros((mean_tX.shape[1], 1))"
   ]
  },
  {
   "cell_type": "code",
   "execution_count": 29,
   "metadata": {
    "collapsed": false
   },
   "outputs": [
    {
     "name": "stdout",
     "output_type": "stream",
     "text": [
      "Current iteration=0, the loss=173286.79513998624\n",
      "Current iteration=200, the loss=133631.0763195679\n",
      "Current iteration=400, the loss=133436.3640461938\n",
      "Current iteration=600, the loss=133406.76442975178\n",
      "Current iteration=800, the loss=133395.04579226096\n",
      "Current iteration=1000, the loss=133389.93836580194\n",
      "The loss=133389.93836580194\n"
     ]
    }
   ],
   "source": [
    "reg_l, reg_w = reg_logistic_regression(y, mean_tX, initial_w, lambda_, alpha, max_iter, threshold)"
   ]
  },
  {
   "cell_type": "markdown",
   "metadata": {},
   "source": [
    "# Cross Validation\n",
    "## Ploting on vairious lambda"
   ]
  },
  {
   "cell_type": "code",
   "execution_count": 13,
   "metadata": {
    "collapsed": true
   },
   "outputs": [],
   "source": [
    "reshape_y=y[:,0]"
   ]
  },
  {
   "cell_type": "code",
   "execution_count": 16,
   "metadata": {
    "collapsed": false
   },
   "outputs": [
    {
     "data": {
      "text/plain": [
       "(250000,)"
      ]
     },
     "execution_count": 16,
     "metadata": {},
     "output_type": "execute_result"
    }
   ],
   "source": [
    "reshape_y.shape"
   ]
  },
  {
   "cell_type": "code",
   "execution_count": 27,
   "metadata": {
    "collapsed": false,
    "scrolled": false
   },
   "outputs": [
    {
     "name": "stdout",
     "output_type": "stream",
     "text": [
      "(2, 125000)\n",
      "(250000, 1)\n",
      "(250000, 20)\n",
      "lambda = 1e-08\n",
      "Current iteration=0, the loss=86643.39756999316\n",
      "Current iteration=200, the loss=62381.09039234993\n",
      "The loss=62381.09039234993\n",
      "Current iteration=0, the loss=86643.39756999316\n",
      "Current iteration=200, the loss=62525.99408549989\n",
      "The loss=62525.99408549989\n",
      "lambda = 3.35981828628e-08\n",
      "Current iteration=0, the loss=86643.39756999316\n",
      "Current iteration=200, the loss=62381.09039249199\n",
      "The loss=62381.09039249199\n",
      "Current iteration=0, the loss=86643.39756999316\n",
      "Current iteration=200, the loss=62525.99408564288\n",
      "The loss=62525.99408564288\n",
      "lambda = 1.12883789168e-07\n",
      "Current iteration=0, the loss=86643.39756999316\n",
      "Current iteration=200, the loss=62381.090392969316\n",
      "The loss=62381.090392969316\n",
      "Current iteration=0, the loss=86643.39756999316\n",
      "Current iteration=200, the loss=62525.994086123355\n",
      "The loss=62525.994086123355\n",
      "lambda = 3.79269019073e-07\n",
      "Current iteration=0, the loss=86643.39756999316\n",
      "Current iteration=200, the loss=62381.09039457302\n",
      "The loss=62381.09039457302\n",
      "Current iteration=0, the loss=86643.39756999316\n",
      "Current iteration=200, the loss=62525.99408773766\n",
      "The loss=62525.99408773766\n",
      "lambda = 1.2742749857e-06\n",
      "Current iteration=0, the loss=86643.39756999316\n",
      "Current iteration=200, the loss=62381.09039996119\n",
      "The loss=62381.09039996119\n",
      "Current iteration=0, the loss=86643.39756999316\n",
      "Current iteration=200, the loss=62525.99409316141\n",
      "The loss=62525.99409316141\n",
      "lambda = 4.28133239872e-06\n",
      "Current iteration=0, the loss=86643.39756999316\n",
      "Current iteration=200, the loss=62381.09041806446\n",
      "The loss=62381.09041806446\n",
      "Current iteration=0, the loss=86643.39756999316\n",
      "Current iteration=200, the loss=62525.99411138424\n",
      "The loss=62525.99411138424\n",
      "lambda = 1.43844988829e-05\n",
      "Current iteration=0, the loss=86643.39756999316\n",
      "Current iteration=200, the loss=62381.09047888813\n",
      "The loss=62381.09047888813\n",
      "Current iteration=0, the loss=86643.39756999316\n",
      "Current iteration=200, the loss=62525.99417260961\n",
      "The loss=62525.99417260961\n",
      "lambda = 4.83293023857e-05\n",
      "Current iteration=0, the loss=86643.39756999316\n",
      "Current iteration=200, the loss=62381.09068324462\n",
      "The loss=62381.09068324462\n",
      "Current iteration=0, the loss=86643.39756999316\n",
      "Current iteration=200, the loss=62525.99437831574\n",
      "The loss=62525.99437831574\n",
      "lambda = 0.000162377673919\n",
      "Current iteration=0, the loss=86643.39756999316\n",
      "Current iteration=200, the loss=62381.09136984517\n",
      "The loss=62381.09136984517\n",
      "Current iteration=0, the loss=86643.39756999316\n",
      "Current iteration=200, the loss=62525.99506945082\n",
      "The loss=62525.99506945082\n",
      "lambda = 0.000545559478117\n",
      "Current iteration=0, the loss=86643.39756999316\n",
      "Current iteration=200, the loss=62381.09367669691\n",
      "The loss=62381.09367669691\n",
      "Current iteration=0, the loss=86643.39756999316\n",
      "Current iteration=200, the loss=62525.99739153773\n",
      "The loss=62525.99739153773\n",
      "lambda = 0.00183298071083\n",
      "Current iteration=0, the loss=86643.39756999316\n",
      "Current iteration=200, the loss=62381.10142728406\n",
      "The loss=62381.10142728406\n",
      "Current iteration=0, the loss=86643.39756999316\n",
      "Current iteration=200, the loss=62526.00519331199\n",
      "The loss=62526.00519331199\n",
      "lambda = 0.00615848211066\n",
      "Current iteration=0, the loss=86643.39756999316\n",
      "Current iteration=200, the loss=62381.12746767375\n",
      "The loss=62381.12746767375\n",
      "Current iteration=0, the loss=86643.39756999316\n",
      "Current iteration=200, the loss=62526.031405677866\n",
      "The loss=62526.031405677866\n",
      "lambda = 0.0206913808111\n",
      "Current iteration=0, the loss=86643.39756999316\n",
      "Current iteration=200, the loss=62381.21495667897\n",
      "The loss=62381.21495667897\n",
      "Current iteration=0, the loss=86643.39756999316\n",
      "Current iteration=200, the loss=62526.11947245487\n",
      "The loss=62526.11947245487\n",
      "lambda = 0.0695192796178\n",
      "Current iteration=0, the loss=86643.39756999316\n",
      "Current iteration=200, the loss=62381.5088815772\n",
      "The loss=62381.5088815772\n",
      "Current iteration=0, the loss=86643.39756999316\n",
      "Current iteration=200, the loss=62526.41533814423\n",
      "The loss=62526.41533814423\n",
      "lambda = 0.233572146909\n",
      "Current iteration=0, the loss=86643.39756999316\n",
      "Current iteration=200, the loss=62382.49616462316\n",
      "The loss=62382.49616462316\n",
      "Current iteration=0, the loss=86643.39756999316\n",
      "Current iteration=200, the loss=62527.40913719161\n",
      "The loss=62527.40913719161\n",
      "lambda = 0.784759970351\n",
      "Current iteration=0, the loss=86643.39756999316\n",
      "Current iteration=200, the loss=62385.810424112984\n",
      "The loss=62385.810424112984\n",
      "Current iteration=0, the loss=86643.39756999316\n",
      "Current iteration=200, the loss=62530.7452362544\n",
      "The loss=62530.7452362544\n",
      "lambda = 2.63665089873\n",
      "Current iteration=0, the loss=86643.39756999316\n",
      "Current iteration=200, the loss=62396.91389642642\n",
      "The loss=62396.91389642642\n",
      "Current iteration=0, the loss=86643.39756999316\n",
      "Current iteration=200, the loss=62541.92149077529\n",
      "The loss=62541.92149077529\n",
      "lambda = 8.8586679041\n",
      "Current iteration=0, the loss=86643.39756999316\n",
      "Current iteration=200, the loss=62433.865126430304\n",
      "The loss=62433.865126430304\n",
      "Current iteration=0, the loss=86643.39756999316\n",
      "Current iteration=200, the loss=62579.110675805874\n",
      "The loss=62579.110675805874\n",
      "lambda = 29.7635144163\n",
      "Current iteration=0, the loss=86643.39756999316\n",
      "Current iteration=200, the loss=62554.193730617444\n",
      "The loss=62554.193730617444\n",
      "Current iteration=0, the loss=86643.39756999316\n",
      "Current iteration=200, the loss=62700.16937179016\n",
      "The loss=62700.16937179016\n",
      "lambda = 100.0\n",
      "Current iteration=0, the loss=86643.39756999316\n",
      "Current iteration=200, the loss=62921.2223496821\n",
      "The loss=62921.2223496821\n",
      "Current iteration=0, the loss=86643.39756999316\n",
      "Current iteration=200, the loss=63069.02722389903\n",
      "The loss=63069.02722389903\n"
     ]
    },
    {
     "data": {
      "image/png": "[encoded data removed]",
      "text/plain": [
       "<matplotlib.figure.Figure at 0x1386cd710>"
      ]
     },
     "metadata": {},
     "output_type": "display_data"
    },
    {
     "data": {
      "image/png": "[encoded data removed]",
      "text/plain": [
       "<matplotlib.figure.Figure at 0x132ee15c0>"
      ]
     },
     "metadata": {},
     "output_type": "display_data"
    }
   ],
   "source": [
    "def cross_validation_demo(seed, initial_w, alpha, max_iter, threshold, degree,k_fold,lambdas):\n",
    "    # split data in k fold\n",
    "    k_indices = build_k_indices(y, k_fold, seed)\n",
    "    print(k_indices.shape)\n",
    "    # define lists to store the loss of training data and test data\n",
    "    rmse_tr = []\n",
    "    rmse_te = []\n",
    "    rmse_te_var=[]\n",
    "\n",
    "    # cross validation: TODO\n",
    "    print(y.shape)\n",
    "    print(new_tX.shape)\n",
    "    \n",
    "    for lambda_ in lambdas:\n",
    "        print('lambda =',lambda_)\n",
    "        loss_tr, loss_te, rmses_test = cross_validation(y, mean_tX, initial_w, alpha, max_iter, threshold, k_indices, k_fold, lambda_, degree)\n",
    "        rmse_tr.append(loss_tr)\n",
    "        rmse_te.append(loss_te)\n",
    "        rmse_te_var.append(rmses_test)\n",
    "    \n",
    "    # ***************************************************    \n",
    "    cross_validation_visualization(lambdas, rmse_tr, rmse_te)\n",
    "    \n",
    "     # Create a figure instance\n",
    "    fig = plt.figure(1, figsize=(9, 6))\n",
    "\n",
    "    # Create an axes instance\n",
    "    ax = fig.add_subplot(111)\n",
    "\n",
    "    # Create the boxplot\n",
    "    bp = ax.boxplot(rmse_te_var)\n",
    "\n",
    "cross_validation_demo(1000, initial_w, alpha, max_iter, threshold, 1, 2, np.logspace(-8, 2, 20))"
   ]
  },
  {
   "cell_type": "markdown",
   "metadata": {},
   "source": [
    "## Do your thing crazy machine learning thing here :) ..."
   ]
  },
  {
   "cell_type": "markdown",
   "metadata": {},
   "source": [
    "## Generate predictions and save ouput in csv format for submission:"
   ]
  },
  {
   "cell_type": "code",
   "execution_count": 30,
   "metadata": {
    "collapsed": false
   },
   "outputs": [],
   "source": [
    "DATA_TEST_PATH = 'test.csv' # TODO: download train data and supply path here \n",
    "_, tX_test, ids_test = load_csv_data(DATA_TEST_PATH)"
   ]
  },
  {
   "cell_type": "markdown",
   "metadata": {},
   "source": [
    "Pour la méthode 2:"
   ]
  },
  {
   "cell_type": "code",
   "execution_count": 31,
   "metadata": {
    "collapsed": true
   },
   "outputs": [],
   "source": [
    "mean_tX_test, mean_mean, mean__std = standardize(undefToMeanMean(tX_test), mean_x=None, std_x=None)"
   ]
  },
  {
   "cell_type": "code",
   "execution_count": 35,
   "metadata": {
    "collapsed": false
   },
   "outputs": [],
   "source": [
    "OUTPUT_PATH = 'mean_log_pen_10-4.csv' # TODO: fill in desired name of output file for submission\n",
    "y_pred = predict_labels(reg_w, mean_tX_test)\n",
    "create_csv_submission(ids_test, y_pred, OUTPUT_PATH)"
   ]
  },
  {
   "cell_type": "code",
   "execution_count": 32,
   "metadata": {
    "collapsed": false
   },
   "outputs": [
    {
     "data": {
      "text/plain": [
       "array([[-4.20967426],\n",
       "       [-2.57229167],\n",
       "       [-1.42675124],\n",
       "       ..., \n",
       "       [-0.25694514],\n",
       "       [-0.02774611],\n",
       "       [-2.87362728]])"
      ]
     },
     "execution_count": 32,
     "metadata": {},
     "output_type": "execute_result"
    }
   ],
   "source": [
    "np.dot(mean_tX_test, reg_w)"
   ]
  },
  {
   "cell_type": "code",
   "execution_count": null,
   "metadata": {
    "collapsed": true
   },
   "outputs": [],
   "source": []
  }
 ],
 "metadata": {
  "anaconda-cloud": {},
  "kernelspec": {
   "display_name": "Python [Root]",
   "language": "python",
   "name": "Python [Root]"
  },
  "language_info": {
   "codemirror_mode": {
    "name": "ipython",
    "version": 3
   },
   "file_extension": ".py",
   "mimetype": "text/x-python",
   "name": "python",
   "nbconvert_exporter": "python",
   "pygments_lexer": "ipython3",
   "version": "3.5.2"
  }
 },
 "nbformat": 4,
 "nbformat_minor": 0
}
