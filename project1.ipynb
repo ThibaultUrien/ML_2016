{
 "cells": [
  {
   "cell_type": "code",
   "execution_count": 4,
   "metadata": {
    "collapsed": false
   },
   "outputs": [
    {
     "name": "stdout",
     "output_type": "stream",
     "text": [
      "The autoreload extension is already loaded. To reload it, use:\n",
      "  %reload_ext autoreload\n"
     ]
    }
   ],
   "source": [
    "# Useful starting lines\n",
    "%matplotlib inline\n",
    "import numpy as np\n",
    "import matplotlib.pyplot as plt\n",
    "%load_ext autoreload\n",
    "%autoreload 2\n",
    "from helpers import *\n",
    "from plots import *\n",
    "import datetime\n",
    "import pandas as pd\n",
    "from proj1_helpers import *"
   ]
  },
  {
   "cell_type": "markdown",
   "metadata": {},
   "source": [
    "## Load the training data into feature matrix, class labels, and event ids:"
   ]
  },
  {
   "cell_type": "code",
   "execution_count": 2,
   "metadata": {
    "collapsed": false
   },
   "outputs": [],
   "source": [
    "from proj1_helpers import *\n",
    "DATA_TRAIN_PATH = 'train.csv' # TODO: download train data and supply path here \n",
    "y, tX, ids = load_csv_data(DATA_TRAIN_PATH, sub_sample=True)"
   ]
  },
  {
   "cell_type": "code",
   "execution_count": 3,
   "metadata": {
    "collapsed": false
   },
   "outputs": [
    {
     "data": {
      "text/plain": [
       "((5000, 30), (5000,))"
      ]
     },
     "execution_count": 3,
     "metadata": {},
     "output_type": "execute_result"
    }
   ],
   "source": [
    "tX.shape, y.shape"
   ]
  },
  {
   "cell_type": "code",
   "execution_count": 35,
   "metadata": {
    "collapsed": false,
    "scrolled": false
   },
   "outputs": [
    {
     "name": "stdout",
     "output_type": "stream",
     "text": [
      "[ 1  6 11 16]\n",
      "[ 2  7 12 17]\n",
      "[ 3  8 13 18]\n",
      "[ 4  9 14 19]\n"
     ]
    },
    {
     "data": {
      "text/plain": [
       "array([[     1,      1,      1,      1,      1,      2,      4,      8,\n",
       "            16,     32,      3,      9,     27,     81,    243,      4,\n",
       "            16,     64,    256,   1024],\n",
       "       [    11,    121,   1331,  14641, 161051,     12,    144,   1728,\n",
       "         20736, 248832,     13,    169,   2197,  28561, 371293,     14,\n",
       "           196,   2744,  38416, 537824]])"
      ]
     },
     "execution_count": 35,
     "metadata": {},
     "output_type": "execute_result"
    }
   ],
   "source": []
  },
  {
   "cell_type": "code",
   "execution_count": 16,
   "metadata": {
    "collapsed": false
   },
   "outputs": [
    {
     "ename": "NameError",
     "evalue": "name 'y' is not defined",
     "output_type": "error",
     "traceback": [
      "\u001b[1;31m---------------------------------------------------------------------------\u001b[0m",
      "\u001b[1;31mNameError\u001b[0m                                 Traceback (most recent call last)",
      "\u001b[1;32m<ipython-input-16-75de5666d547>\u001b[0m in \u001b[0;36m<module>\u001b[1;34m()\u001b[0m\n\u001b[1;32m----> 1\u001b[1;33m \u001b[0my\u001b[0m\u001b[1;33m=\u001b[0m\u001b[0my\u001b[0m\u001b[1;33m.\u001b[0m\u001b[0mreshape\u001b[0m\u001b[1;33m(\u001b[0m\u001b[0mlen\u001b[0m\u001b[1;33m(\u001b[0m\u001b[0my\u001b[0m\u001b[1;33m)\u001b[0m\u001b[1;33m,\u001b[0m\u001b[1;36m1\u001b[0m\u001b[1;33m)\u001b[0m\u001b[1;33m\u001b[0m\u001b[0m\n\u001b[0m\u001b[0;32m      2\u001b[0m \u001b[0my\u001b[0m\u001b[1;33m.\u001b[0m\u001b[0mshape\u001b[0m\u001b[1;33m\u001b[0m\u001b[0m\n",
      "\u001b[1;31mNameError\u001b[0m: name 'y' is not defined"
     ]
    }
   ],
   "source": [
    "y=y.reshape(len(y),1)\n",
    "y.shape"
   ]
  },
  {
   "cell_type": "code",
   "execution_count": 17,
   "metadata": {
    "collapsed": false
   },
   "outputs": [
    {
     "ename": "NameError",
     "evalue": "name 'tX' is not defined",
     "output_type": "error",
     "traceback": [
      "\u001b[1;31m---------------------------------------------------------------------------\u001b[0m",
      "\u001b[1;31mNameError\u001b[0m                                 Traceback (most recent call last)",
      "\u001b[1;32m<ipython-input-17-8174c2332554>\u001b[0m in \u001b[0;36m<module>\u001b[1;34m()\u001b[0m\n\u001b[1;32m----> 1\u001b[1;33m \u001b[0mtX\u001b[0m\u001b[1;33m.\u001b[0m\u001b[0mshape\u001b[0m\u001b[1;33m\u001b[0m\u001b[0m\n\u001b[0m",
      "\u001b[1;31mNameError\u001b[0m: name 'tX' is not defined"
     ]
    }
   ],
   "source": [
    "tX.shape"
   ]
  },
  {
   "cell_type": "code",
   "execution_count": 41,
   "metadata": {
    "collapsed": false
   },
   "outputs": [],
   "source": [
    "df= pd.read_csv(DATA_TRAIN_PATH)"
   ]
  },
  {
   "cell_type": "markdown",
   "metadata": {},
   "source": [
    "In the following code section, we choose how do we deal with the datas. This part is extremly important since the method we choose is going to change the predictions. We have roughly two methods to deal with outliers, we tried both and we are going to compare them.\n",
    "\n",
    "The method function returns the matrix we are going to work with. If argument 1 is chosen, we will use the first method and with argument 2 the second method."
   ]
  },
  {
   "cell_type": "markdown",
   "metadata": {},
   "source": [
    "### First method\n",
    "We remove all columns containing -999. using remove_outlier_columns function."
   ]
  },
  {
   "cell_type": "code",
   "execution_count": 5,
   "metadata": {
    "collapsed": false
   },
   "outputs": [
    {
     "data": {
      "text/plain": [
       "(5000, 20)"
      ]
     },
     "execution_count": 5,
     "metadata": {},
     "output_type": "execute_result"
    }
   ],
   "source": [
    "new_tX, new_mean, new_std = method(1,tX)\n",
    "new_tX.shape"
   ]
  },
  {
   "cell_type": "markdown",
   "metadata": {},
   "source": [
    "### Second method\n",
    "We transform all the -999. values by the mean of the columns (calculated without counting the -999.)"
   ]
  },
  {
   "cell_type": "code",
   "execution_count": 7,
   "metadata": {
    "collapsed": false
   },
   "outputs": [
    {
     "data": {
      "text/plain": [
       "(5000, 31)"
      ]
     },
     "execution_count": 7,
     "metadata": {},
     "output_type": "execute_result"
    }
   ],
   "source": [
    "mean_tX, mean_mean, mean__std = method(2,tX)\n",
    "mean_tX"
   ]
  },
  {
   "cell_type": "markdown",
   "metadata": {},
   "source": [
    "For each method 1 and 2, we will implement the 6 ML methods asked in the step 2 of the project description and will compare them."
   ]
  },
  {
   "cell_type": "markdown",
   "metadata": {},
   "source": [
    "### Third method\n",
    "NOT REALLY A METHOD"
   ]
  },
  {
   "cell_type": "code",
   "execution_count": 20,
   "metadata": {
    "collapsed": false
   },
   "outputs": [],
   "source": [
    "dup_tX, dup_mean, dup_std= method(3, tX)"
   ]
  },
  {
   "cell_type": "markdown",
   "metadata": {},
   "source": [
    "# Linear regression\n",
    "### with gradient descent method"
   ]
  },
  {
   "cell_type": "markdown",
   "metadata": {},
   "source": [
    "We define the parameters of the algorithm"
   ]
  },
  {
   "cell_type": "code",
   "execution_count": 46,
   "metadata": {
    "collapsed": true
   },
   "outputs": [],
   "source": [
    "max_iters = 501\n",
    "gamma = 0.04\n",
    "initial_w1 = np.zeros((new_tX.shape[1], 1))\n",
    "initial_w2 = np.zeros((mean_tX.shape[1], 1))"
   ]
  },
  {
   "cell_type": "markdown",
   "metadata": {},
   "source": [
    "Method 1: We remove outliers"
   ]
  },
  {
   "cell_type": "code",
   "execution_count": 47,
   "metadata": {
    "collapsed": false
   },
   "outputs": [
    {
     "name": "stdout",
     "output_type": "stream",
     "text": [
      "Gradient Descent(0/500): loss=0.5\n",
      "Gradient Descent(100/500): loss=0.34664069018483407\n",
      "Gradient Descent(200/500): loss=0.3420824627689666\n",
      "Gradient Descent(300/500): loss=0.34050984134672735\n",
      "Gradient Descent(400/500): loss=0.33992347569151465\n",
      "Gradient Descent(500/500): loss=0.33969186313755456\n",
      "Gradient Descent(500/500): loss=0.33969186313755456\n",
      "Gradient Descent: execution time=0.118 seconds\n"
     ]
    }
   ],
   "source": [
    "start_time = datetime.datetime.now()\n",
    "best_ws1= least_square_GD(y, new_tX, initial_w1, gamma,max_iters)\n",
    "end_time = datetime.datetime.now()\n",
    "\n",
    "# Print result\n",
    "exection_time = (end_time - start_time).total_seconds()\n",
    "print(\"Gradient Descent: execution time={t:.3f} seconds\".format(t=exection_time))"
   ]
  },
  {
   "cell_type": "markdown",
   "metadata": {},
   "source": [
    "Method 2: We change outliers with mean values"
   ]
  },
  {
   "cell_type": "code",
   "execution_count": 25,
   "metadata": {
    "collapsed": false
   },
   "outputs": [
    {
     "name": "stdout",
     "output_type": "stream",
     "text": [
      "Gradient Descent(0/500): loss=0.5\n",
      "Gradient Descent(100/500): loss=0.3338048617023286\n",
      "Gradient Descent(200/500): loss=0.32988750586239085\n",
      "Gradient Descent(300/500): loss=0.3285278951623448\n",
      "Gradient Descent(400/500): loss=0.3279773616673182\n",
      "Gradient Descent(500/500): loss=0.32773906243490547\n",
      "Gradient Descent(500/500): loss=0.32773906243490547\n",
      "Gradient Descent: execution time=0.139 seconds\n"
     ]
    }
   ],
   "source": [
    "start_time = datetime.datetime.now()\n",
    "best_ws2 = least_square_GD(y, mean_tX, initial_w2, gamma,max_iters)\n",
    "end_time = datetime.datetime.now()\n",
    "\n",
    "# Print result\n",
    "exection_time = (end_time - start_time).total_seconds()\n",
    "print(\"Gradient Descent: execution time={t:.3f} seconds\".format(t=exection_time))"
   ]
  },
  {
   "cell_type": "markdown",
   "metadata": {},
   "source": [
    "### with stochastique gradient descent"
   ]
  },
  {
   "cell_type": "code",
   "execution_count": 48,
   "metadata": {
    "collapsed": true
   },
   "outputs": [],
   "source": [
    "# Define the parameters of the algorithm.\n",
    "max_iters = 20\n",
    "batch_size=1\n",
    "initial_w1 = np.zeros((new_tX.shape[1], 1))\n",
    "initial_w2 = np.zeros((mean_tX.shape[1], 1))\n",
    "\n",
    "# For the moment we use this gamma\n",
    "gamma = 0.0004\n",
    "\n"
   ]
  },
  {
   "cell_type": "markdown",
   "metadata": {},
   "source": [
    "Method 1"
   ]
  },
  {
   "cell_type": "code",
   "execution_count": 49,
   "metadata": {
    "collapsed": false
   },
   "outputs": [
    {
     "name": "stdout",
     "output_type": "stream",
     "text": [
      "Gradient Descent(0/19): loss=0.35454138073108254\n",
      "Gradient Descent(1/19): loss=0.34746141185945406\n",
      "Gradient Descent(2/19): loss=0.34601422585469543\n",
      "Gradient Descent(3/19): loss=0.343174057582193\n",
      "Gradient Descent(4/19): loss=0.3412942895889536\n",
      "Gradient Descent(5/19): loss=0.3407655225616057\n",
      "Gradient Descent(6/19): loss=0.3412638363506763\n",
      "Gradient Descent(7/19): loss=0.34026442060698203\n",
      "Gradient Descent(8/19): loss=0.3405007138156668\n",
      "Gradient Descent(9/19): loss=0.3415988468801482\n",
      "Gradient Descent(10/19): loss=0.3399852358182284\n",
      "Gradient Descent(11/19): loss=0.33988533710758645\n",
      "Gradient Descent(12/19): loss=0.3410429245095035\n",
      "Gradient Descent(13/19): loss=0.3404951512950036\n",
      "Gradient Descent(14/19): loss=0.3398336721938985\n",
      "Gradient Descent(15/19): loss=0.3400048710088549\n",
      "Gradient Descent(16/19): loss=0.34051243015980315\n",
      "Gradient Descent(17/19): loss=0.3401482080258788\n",
      "Gradient Descent(18/19): loss=0.33968552294991317\n",
      "Gradient Descent(19/19): loss=0.33964194827710653\n",
      "SGD: execution time=13.015 seconds\n"
     ]
    }
   ],
   "source": [
    "# Start SGD.\n",
    "start_time = datetime.datetime.now()\n",
    "sgd_w  = least_square_SGD(y, new_tX, batch_size, initial_w1, max_iters, gamma)\n",
    "end_time = datetime.datetime.now()\n",
    "\n",
    "# Print result\n",
    "exection_time = (end_time - start_time).total_seconds()\n",
    "print(\"SGD: execution time={t:.3f} seconds\".format(t=exection_time))"
   ]
  },
  {
   "cell_type": "markdown",
   "metadata": {},
   "source": [
    "Method 2"
   ]
  },
  {
   "cell_type": "code",
   "execution_count": 52,
   "metadata": {
    "collapsed": false
   },
   "outputs": [
    {
     "name": "stdout",
     "output_type": "stream",
     "text": [
      "Gradient Descent(0/19): loss=0.34085971589926223\n",
      "Gradient Descent(1/19): loss=0.3350013018771247\n",
      "Gradient Descent(2/19): loss=0.3321408023910517\n",
      "Gradient Descent(3/19): loss=0.33099992255097743\n",
      "Gradient Descent(4/19): loss=0.32953658916885986\n",
      "Gradient Descent(5/19): loss=0.3294512663193073\n",
      "Gradient Descent(6/19): loss=0.3293298240931374\n",
      "Gradient Descent(7/19): loss=0.32987734264426916\n",
      "Gradient Descent(8/19): loss=0.3284619362539957\n",
      "Gradient Descent(9/19): loss=0.3282628908599057\n",
      "Gradient Descent(10/19): loss=0.3280413818463362\n",
      "Gradient Descent(11/19): loss=0.32795637076590595\n",
      "Gradient Descent(12/19): loss=0.329012977199711\n",
      "Gradient Descent(13/19): loss=0.3286025477892035\n",
      "Gradient Descent(14/19): loss=0.328812564267026\n",
      "Gradient Descent(15/19): loss=0.32973505213115495\n",
      "Gradient Descent(16/19): loss=0.3286750286576354\n",
      "Gradient Descent(17/19): loss=0.32788719463320715\n",
      "Gradient Descent(18/19): loss=0.3284178196926754\n",
      "Gradient Descent(19/19): loss=0.32853248314739786\n",
      "SGD: execution time=16.129 seconds\n"
     ]
    }
   ],
   "source": [
    "# Start SGD.\n",
    "start_time = datetime.datetime.now()\n",
    "sgd_w  = least_square_SGD(y, mean_tX, batch_size, initial_w2, max_iters, gamma)\n",
    "end_time = datetime.datetime.now()\n",
    "\n",
    "# Print result\n",
    "exection_time = (end_time - start_time).total_seconds()\n",
    "print(\"SGD: execution time={t:.3f} seconds\".format(t=exection_time))"
   ]
  },
  {
   "cell_type": "markdown",
   "metadata": {},
   "source": [
    "# Least square method"
   ]
  },
  {
   "cell_type": "markdown",
   "metadata": {},
   "source": [
    "Method 1"
   ]
  },
  {
   "cell_type": "code",
   "execution_count": 54,
   "metadata": {
    "collapsed": false
   },
   "outputs": [
    {
     "name": "stdout",
     "output_type": "stream",
     "text": [
      "(20, 1)\n",
      "0.339347093912\n"
     ]
    }
   ],
   "source": [
    "ls_weight1, ls_mse1= least_squares(y,new_tX)\n",
    "print(ls_weight1.shape)\n",
    "print(ls_mse1)"
   ]
  },
  {
   "cell_type": "markdown",
   "metadata": {},
   "source": [
    "Method 2"
   ]
  },
  {
   "cell_type": "code",
   "execution_count": 55,
   "metadata": {
    "collapsed": false
   },
   "outputs": [
    {
     "name": "stdout",
     "output_type": "stream",
     "text": [
      "(31, 1)\n",
      "0.327358937889\n"
     ]
    }
   ],
   "source": [
    "ls_weight2, ls_mse2= least_squares(y,mean_tX)\n",
    "print(ls_weight2.shape)\n",
    "print(ls_mse2)"
   ]
  },
  {
   "cell_type": "markdown",
   "metadata": {
    "collapsed": true
   },
   "source": [
    "# Ridge Regression"
   ]
  },
  {
   "cell_type": "code",
   "execution_count": 45,
   "metadata": {
    "collapsed": false
   },
   "outputs": [
    {
     "data": {
      "text/plain": [
       "((31, 1), 0.34041072124984656)"
      ]
     },
     "execution_count": 45,
     "metadata": {},
     "output_type": "execute_result"
    }
   ],
   "source": [
    "lambda_= 0.0001\n",
    "w, RR_mse = ridge_regression(y, mean_tX, lambda_)\n",
    "w.shape, RR_mse"
   ]
  },
  {
   "cell_type": "code",
   "execution_count": null,
   "metadata": {
    "collapsed": false
   },
   "outputs": [],
   "source": []
  },
  {
   "cell_type": "markdown",
   "metadata": {},
   "source": [
    "# Logistic Regression\n",
    "### with gradient descent method"
   ]
  },
  {
   "cell_type": "markdown",
   "metadata": {},
   "source": [
    "ONLY FOR LOGISTIC REGRESSION:\n",
    "y take only 1 and 0 values"
   ]
  },
  {
   "cell_type": "code",
   "execution_count": 67,
   "metadata": {
    "collapsed": true
   },
   "outputs": [],
   "source": [
    "for i in range(len(y)):\n",
    "    if y[i]==-1:\n",
    "        y[i]=0"
   ]
  },
  {
   "cell_type": "markdown",
   "metadata": {},
   "source": [
    "We define some parameters."
   ]
  },
  {
   "cell_type": "code",
   "execution_count": 68,
   "metadata": {
    "collapsed": true
   },
   "outputs": [],
   "source": [
    "max_iters = 500\n",
    "threshold = 1e-8\n",
    "alpha = 0.000001\n",
    "\n",
    "initial_w = np.zeros((dup_tX.shape[1], 1))\n"
   ]
  },
  {
   "cell_type": "markdown",
   "metadata": {},
   "source": [
    "We call logistic regression with gradient descent --> with true argument "
   ]
  },
  {
   "cell_type": "code",
   "execution_count": null,
   "metadata": {
    "collapsed": false
   },
   "outputs": [],
   "source": [
    "l,w = logistic_regression(y, dup_tX, initial_w, alpha, max_iters, threshold, True)"
   ]
  },
  {
   "cell_type": "code",
   "execution_count": 49,
   "metadata": {
    "collapsed": true
   },
   "outputs": [],
   "source": []
  },
  {
   "cell_type": "code",
   "execution_count": null,
   "metadata": {
    "collapsed": false
   },
   "outputs": [],
   "source": []
  },
  {
   "cell_type": "markdown",
   "metadata": {},
   "source": [
    "### with newton's method"
   ]
  },
  {
   "cell_type": "markdown",
   "metadata": {},
   "source": [
    "We call logistic regression with newton method --> with false argument "
   ]
  },
  {
   "cell_type": "code",
   "execution_count": 23,
   "metadata": {
    "collapsed": false
   },
   "outputs": [
    {
     "name": "stdout",
     "output_type": "stream",
     "text": [
      "Current iteration=0, the loss=173286.79513998624\n",
      "Current iteration=100, the loss=173279.42150918\n",
      "Current iteration=200, the loss=173272.04935281907\n",
      "Current iteration=300, the loss=173264.6786704757\n",
      "Current iteration=400, the loss=173257.30946171956\n",
      "The loss=173250.01539618877\n"
     ]
    }
   ],
   "source": [
    "l,w = logistic_regression(y, new_tX, initial_w, alpha, max_iters, threshold, False)"
   ]
  },
  {
   "cell_type": "markdown",
   "metadata": {},
   "source": [
    "# Penalized Logistic Regression\n",
    "### with gradient descent"
   ]
  },
  {
   "cell_type": "code",
   "execution_count": 7,
   "metadata": {
    "collapsed": true
   },
   "outputs": [],
   "source": [
    "y[y==-1] = 0"
   ]
  },
  {
   "cell_type": "markdown",
   "metadata": {},
   "source": [
    "Define some parameters"
   ]
  },
  {
   "cell_type": "code",
   "execution_count": 28,
   "metadata": {
    "collapsed": false
   },
   "outputs": [],
   "source": [
    "max_iter = 1001\n",
    "alpha = 0.00001\n",
    "lambda_ = 0.0001\n",
    "threshold = 1e-8\n",
    "initial_w = np.zeros((mean_tX.shape[1], 1))"
   ]
  },
  {
   "cell_type": "code",
   "execution_count": 29,
   "metadata": {
    "collapsed": false
   },
   "outputs": [
    {
     "name": "stdout",
     "output_type": "stream",
     "text": [
      "Current iteration=0, the loss=173286.79513998624\n",
      "Current iteration=200, the loss=133631.0763195679\n",
      "Current iteration=400, the loss=133436.3640461938\n",
      "Current iteration=600, the loss=133406.76442975178\n",
      "Current iteration=800, the loss=133395.04579226096\n",
      "Current iteration=1000, the loss=133389.93836580194\n",
      "The loss=133389.93836580194\n"
     ]
    }
   ],
   "source": [
    "reg_l, reg_w = reg_logistic_regression(y, mean_tX, initial_w, lambda_, alpha, max_iter, threshold)"
   ]
  },
  {
   "cell_type": "markdown",
   "metadata": {},
   "source": [
    "# Cross Validation\n",
    "## Ploting on vairious lambda"
   ]
  },
  {
   "cell_type": "code",
   "execution_count": 13,
   "metadata": {
    "collapsed": true
   },
   "outputs": [],
   "source": [
    "reshape_y=y[:,0]"
   ]
  },
  {
   "cell_type": "code",
   "execution_count": 16,
   "metadata": {
    "collapsed": false
   },
   "outputs": [
    {
     "data": {
      "text/plain": [
       "(250000,)"
      ]
     },
     "execution_count": 16,
     "metadata": {},
     "output_type": "execute_result"
    }
   ],
   "source": [
    "reshape_y.shape"
   ]
  },
  {
   "cell_type": "code",
   "execution_count": 27,
   "metadata": {
    "collapsed": false,
    "scrolled": false
   },
   "outputs": [
    {
     "name": "stdout",
     "output_type": "stream",
     "text": [
      "(2, 125000)\n",
      "(250000, 1)\n",
      "(250000, 20)\n",
      "lambda = 1e-08\n",
      "Current iteration=0, the loss=86643.39756999316\n",
      "Current iteration=200, the loss=62381.09039234993\n",
      "The loss=62381.09039234993\n",
      "Current iteration=0, the loss=86643.39756999316\n",
      "Current iteration=200, the loss=62525.99408549989\n",
      "The loss=62525.99408549989\n",
      "lambda = 3.35981828628e-08\n",
      "Current iteration=0, the loss=86643.39756999316\n",
      "Current iteration=200, the loss=62381.09039249199\n",
      "The loss=62381.09039249199\n",
      "Current iteration=0, the loss=86643.39756999316\n",
      "Current iteration=200, the loss=62525.99408564288\n",
      "The loss=62525.99408564288\n",
      "lambda = 1.12883789168e-07\n",
      "Current iteration=0, the loss=86643.39756999316\n",
      "Current iteration=200, the loss=62381.090392969316\n",
      "The loss=62381.090392969316\n",
      "Current iteration=0, the loss=86643.39756999316\n",
      "Current iteration=200, the loss=62525.994086123355\n",
      "The loss=62525.994086123355\n",
      "lambda = 3.79269019073e-07\n",
      "Current iteration=0, the loss=86643.39756999316\n",
      "Current iteration=200, the loss=62381.09039457302\n",
      "The loss=62381.09039457302\n",
      "Current iteration=0, the loss=86643.39756999316\n",
      "Current iteration=200, the loss=62525.99408773766\n",
      "The loss=62525.99408773766\n",
      "lambda = 1.2742749857e-06\n",
      "Current iteration=0, the loss=86643.39756999316\n",
      "Current iteration=200, the loss=62381.09039996119\n",
      "The loss=62381.09039996119\n",
      "Current iteration=0, the loss=86643.39756999316\n",
      "Current iteration=200, the loss=62525.99409316141\n",
      "The loss=62525.99409316141\n",
      "lambda = 4.28133239872e-06\n",
      "Current iteration=0, the loss=86643.39756999316\n",
      "Current iteration=200, the loss=62381.09041806446\n",
      "The loss=62381.09041806446\n",
      "Current iteration=0, the loss=86643.39756999316\n",
      "Current iteration=200, the loss=62525.99411138424\n",
      "The loss=62525.99411138424\n",
      "lambda = 1.43844988829e-05\n",
      "Current iteration=0, the loss=86643.39756999316\n",
      "Current iteration=200, the loss=62381.09047888813\n",
      "The loss=62381.09047888813\n",
      "Current iteration=0, the loss=86643.39756999316\n",
      "Current iteration=200, the loss=62525.99417260961\n",
      "The loss=62525.99417260961\n",
      "lambda = 4.83293023857e-05\n",
      "Current iteration=0, the loss=86643.39756999316\n",
      "Current iteration=200, the loss=62381.09068324462\n",
      "The loss=62381.09068324462\n",
      "Current iteration=0, the loss=86643.39756999316\n",
      "Current iteration=200, the loss=62525.99437831574\n",
      "The loss=62525.99437831574\n",
      "lambda = 0.000162377673919\n",
      "Current iteration=0, the loss=86643.39756999316\n",
      "Current iteration=200, the loss=62381.09136984517\n",
      "The loss=62381.09136984517\n",
      "Current iteration=0, the loss=86643.39756999316\n",
      "Current iteration=200, the loss=62525.99506945082\n",
      "The loss=62525.99506945082\n",
      "lambda = 0.000545559478117\n",
      "Current iteration=0, the loss=86643.39756999316\n",
      "Current iteration=200, the loss=62381.09367669691\n",
      "The loss=62381.09367669691\n",
      "Current iteration=0, the loss=86643.39756999316\n",
      "Current iteration=200, the loss=62525.99739153773\n",
      "The loss=62525.99739153773\n",
      "lambda = 0.00183298071083\n",
      "Current iteration=0, the loss=86643.39756999316\n",
      "Current iteration=200, the loss=62381.10142728406\n",
      "The loss=62381.10142728406\n",
      "Current iteration=0, the loss=86643.39756999316\n",
      "Current iteration=200, the loss=62526.00519331199\n",
      "The loss=62526.00519331199\n",
      "lambda = 0.00615848211066\n",
      "Current iteration=0, the loss=86643.39756999316\n",
      "Current iteration=200, the loss=62381.12746767375\n",
      "The loss=62381.12746767375\n",
      "Current iteration=0, the loss=86643.39756999316\n",
      "Current iteration=200, the loss=62526.031405677866\n",
      "The loss=62526.031405677866\n",
      "lambda = 0.0206913808111\n",
      "Current iteration=0, the loss=86643.39756999316\n",
      "Current iteration=200, the loss=62381.21495667897\n",
      "The loss=62381.21495667897\n",
      "Current iteration=0, the loss=86643.39756999316\n",
      "Current iteration=200, the loss=62526.11947245487\n",
      "The loss=62526.11947245487\n",
      "lambda = 0.0695192796178\n",
      "Current iteration=0, the loss=86643.39756999316\n",
      "Current iteration=200, the loss=62381.5088815772\n",
      "The loss=62381.5088815772\n",
      "Current iteration=0, the loss=86643.39756999316\n",
      "Current iteration=200, the loss=62526.41533814423\n",
      "The loss=62526.41533814423\n",
      "lambda = 0.233572146909\n",
      "Current iteration=0, the loss=86643.39756999316\n",
      "Current iteration=200, the loss=62382.49616462316\n",
      "The loss=62382.49616462316\n",
      "Current iteration=0, the loss=86643.39756999316\n",
      "Current iteration=200, the loss=62527.40913719161\n",
      "The loss=62527.40913719161\n",
      "lambda = 0.784759970351\n",
      "Current iteration=0, the loss=86643.39756999316\n",
      "Current iteration=200, the loss=62385.810424112984\n",
      "The loss=62385.810424112984\n",
      "Current iteration=0, the loss=86643.39756999316\n",
      "Current iteration=200, the loss=62530.7452362544\n",
      "The loss=62530.7452362544\n",
      "lambda = 2.63665089873\n",
      "Current iteration=0, the loss=86643.39756999316\n",
      "Current iteration=200, the loss=62396.91389642642\n",
      "The loss=62396.91389642642\n",
      "Current iteration=0, the loss=86643.39756999316\n",
      "Current iteration=200, the loss=62541.92149077529\n",
      "The loss=62541.92149077529\n",
      "lambda = 8.8586679041\n",
      "Current iteration=0, the loss=86643.39756999316\n",
      "Current iteration=200, the loss=62433.865126430304\n",
      "The loss=62433.865126430304\n",
      "Current iteration=0, the loss=86643.39756999316\n",
      "Current iteration=200, the loss=62579.110675805874\n",
      "The loss=62579.110675805874\n",
      "lambda = 29.7635144163\n",
      "Current iteration=0, the loss=86643.39756999316\n",
      "Current iteration=200, the loss=62554.193730617444\n",
      "The loss=62554.193730617444\n",
      "Current iteration=0, the loss=86643.39756999316\n",
      "Current iteration=200, the loss=62700.16937179016\n",
      "The loss=62700.16937179016\n",
      "lambda = 100.0\n",
      "Current iteration=0, the loss=86643.39756999316\n",
      "Current iteration=200, the loss=62921.2223496821\n",
      "The loss=62921.2223496821\n",
      "Current iteration=0, the loss=86643.39756999316\n",
      "Current iteration=200, the loss=63069.02722389903\n",
      "The loss=63069.02722389903\n"
     ]
    },
    {
     "data": {
      "image/png": "[encoded data removed]",
      "text/plain": [
       "<matplotlib.figure.Figure at 0x1386cd710>"
      ]
     },
     "metadata": {},
     "output_type": "display_data"
    },
    {
     "data": {
      "image/png": "[encoded data removed]",
      "text/plain": [
       "<matplotlib.figure.Figure at 0x132ee15c0>"
      ]
     },
     "metadata": {},
     "output_type": "display_data"
    }
   ],
   "source": [
    "def cross_validation_demo(seed, initial_w, alpha, max_iter, threshold, degree,k_fold,lambdas):\n",
    "    # split data in k fold\n",
    "    k_indices = build_k_indices(y, k_fold, seed)\n",
    "    print(k_indices.shape)\n",
    "    # define lists to store the loss of training data and test data\n",
    "    rmse_tr = []\n",
    "    rmse_te = []\n",
    "    rmse_te_var=[]\n",
    "\n",
    "    # cross validation: TODO\n",
    "    print(y.shape)\n",
    "    print(new_tX.shape)\n",
    "    \n",
    "    for lambda_ in lambdas:\n",
    "        print('lambda =',lambda_)\n",
    "        loss_tr, loss_te, rmses_test = cross_validation(y, mean_tX, initial_w, alpha, max_iter, threshold, k_indices, k_fold, lambda_, degree)\n",
    "        rmse_tr.append(loss_tr)\n",
    "        rmse_te.append(loss_te)\n",
    "        rmse_te_var.append(rmses_test)\n",
    "    \n",
    "    # ***************************************************    \n",
    "    cross_validation_visualization(lambdas, rmse_tr, rmse_te)\n",
    "    \n",
    "     # Create a figure instance\n",
    "    fig = plt.figure(1, figsize=(9, 6))\n",
    "\n",
    "    # Create an axes instance\n",
    "    ax = fig.add_subplot(111)\n",
    "\n",
    "    # Create the boxplot\n",
    "    bp = ax.boxplot(rmse_te_var)\n",
    "\n",
    "cross_validation_demo(1000, initial_w, alpha, max_iter, threshold, 1, 2, np.logspace(-8, 2, 20))"
   ]
  },
  {
   "cell_type": "markdown",
   "metadata": {},
   "source": [
    "## Do your thing crazy machine learning thing here :) ..."
   ]
  },
  {
   "cell_type": "markdown",
   "metadata": {},
   "source": [
    "## Generate predictions and save ouput in csv format for submission:"
   ]
  },
  {
   "cell_type": "code",
   "execution_count": 30,
   "metadata": {
    "collapsed": false
   },
   "outputs": [],
   "source": [
    "DATA_TEST_PATH = 'test.csv' # TODO: download train data and supply path here \n",
    "_, tX_test, ids_test = load_csv_data(DATA_TEST_PATH)"
   ]
  },
  {
   "cell_type": "markdown",
   "metadata": {},
   "source": [
    "Pour la méthode 2:"
   ]
  },
  {
   "cell_type": "code",
   "execution_count": 31,
   "metadata": {
    "collapsed": true
   },
   "outputs": [],
   "source": [
    "mean_tX_test, mean_mean, mean__std = standardize(undefToMeanMean(tX_test), mean_x=None, std_x=None)"
   ]
  },
  {
   "cell_type": "code",
   "execution_count": 35,
   "metadata": {
    "collapsed": false
   },
   "outputs": [],
   "source": [
    "OUTPUT_PATH = 'mean_log_pen_10-4.csv' # TODO: fill in desired name of output file for submission\n",
    "y_pred = predict_labels(reg_w, mean_tX_test)\n",
    "create_csv_submission(ids_test, y_pred, OUTPUT_PATH)"
   ]
  },
  {
   "cell_type": "code",
   "execution_count": 32,
   "metadata": {
    "collapsed": false
   },
   "outputs": [
    {
     "data": {
      "text/plain": [
       "array([[-4.20967426],\n",
       "       [-2.57229167],\n",
       "       [-1.42675124],\n",
       "       ..., \n",
       "       [-0.25694514],\n",
       "       [-0.02774611],\n",
       "       [-2.87362728]])"
      ]
     },
     "execution_count": 32,
     "metadata": {},
     "output_type": "execute_result"
    }
   ],
   "source": [
    "np.dot(mean_tX_test, reg_w)"
   ]
  },
  {
   "cell_type": "code",
   "execution_count": null,
   "metadata": {
    "collapsed": true
   },
   "outputs": [],
   "source": []
  }
 ],
 "metadata": {
  "anaconda-cloud": {},
  "kernelspec": {
   "display_name": "Python [Root]",
   "language": "python",
   "name": "Python [Root]"
  },
  "language_info": {
   "codemirror_mode": {
    "name": "ipython",
    "version": 3
   },
   "file_extension": ".py",
   "mimetype": "text/x-python",
   "name": "python",
   "nbconvert_exporter": "python",
   "pygments_lexer": "ipython3",
   "version": "3.5.2"
  }
 },
 "nbformat": 4,
 "nbformat_minor": 0
}
