{
 "cells": [
  {
   "cell_type": "code",
   "execution_count": 1,
   "metadata": {
    "collapsed": false
   },
   "outputs": [],
   "source": [
    "# Useful starting lines\n",
    "%matplotlib inline\n",
    "import numpy as np\n",
    "import matplotlib.pyplot as plt\n",
    "%load_ext autoreload\n",
    "%autoreload 2\n",
    "from helpers import *\n",
    "from plots import *\n",
    "import datetime\n",
    "import pandas as pd\n",
    "from proj1_helpers import *"
   ]
  },
  {
   "cell_type": "markdown",
   "metadata": {},
   "source": [
    "## Load the training data into feature matrix, class labels, and event ids:"
   ]
  },
  {
   "cell_type": "code",
   "execution_count": 20,
   "metadata": {
    "collapsed": false
   },
   "outputs": [],
   "source": [
    "from proj1_helpers import *\n",
    "DATA_TRAIN_PATH = 'train.csv' # TODO: download train data and supply path here \n",
    "y, tX, ids = load_csv_data(DATA_TRAIN_PATH, sub_sample=True)"
   ]
  },
  {
   "cell_type": "code",
   "execution_count": 21,
   "metadata": {
    "collapsed": false
   },
   "outputs": [
    {
     "data": {
      "text/plain": [
       "((5000, 30), (5000,))"
      ]
     },
     "execution_count": 21,
     "metadata": {},
     "output_type": "execute_result"
    }
   ],
   "source": [
    "tX.shape, y.shape"
   ]
  },
  {
   "cell_type": "code",
   "execution_count": null,
   "metadata": {
    "collapsed": false
   },
   "outputs": [],
   "source": []
  },
  {
   "cell_type": "code",
   "execution_count": 3,
   "metadata": {
    "collapsed": false
   },
   "outputs": [
    {
     "data": {
      "text/plain": [
       "(250000, 1)"
      ]
     },
     "execution_count": 3,
     "metadata": {},
     "output_type": "execute_result"
    }
   ],
   "source": [
    "y=y.reshape(len(y),1)\n",
    "y.shape"
   ]
  },
  {
   "cell_type": "code",
   "execution_count": 5,
   "metadata": {
    "collapsed": false
   },
   "outputs": [
    {
     "data": {
      "text/plain": [
       "array([[ 138.47 ,   51.655,   97.827, ...,    1.24 ,   -2.475,  113.497],\n",
       "       [ 160.937,   68.768,  103.235, ..., -999.   , -999.   ,   46.226],\n",
       "       [-999.   ,  162.172,  125.953, ..., -999.   , -999.   ,   44.251],\n",
       "       ..., \n",
       "       [ 105.457,   60.526,   75.839, ..., -999.   , -999.   ,   41.992],\n",
       "       [  94.951,   19.362,   68.812, ..., -999.   , -999.   ,    0.   ],\n",
       "       [-999.   ,   72.756,   70.831, ..., -999.   , -999.   ,    0.   ]])"
      ]
     },
     "execution_count": 5,
     "metadata": {},
     "output_type": "execute_result"
    }
   ],
   "source": [
    "tX.shape"
   ]
  },
  {
   "cell_type": "code",
   "execution_count": 41,
   "metadata": {
    "collapsed": false
   },
   "outputs": [],
   "source": [
    "df= pd.read_csv(DATA_TRAIN_PATH)"
   ]
  },
  {
   "cell_type": "markdown",
   "metadata": {},
   "source": [
    "In the following code section, we choose how do we deal with the datas. This part is extremly important since the method we choose is going to change the predictions. We have roughly two methods to deal with outliers, we tried both and we are going to compare them.\n",
    "\n",
    "The method function returns the matrix we are going to work with. If argument 1 is chosen, we will use the first method and with argument 2 the second method."
   ]
  },
  {
   "cell_type": "markdown",
   "metadata": {},
   "source": [
    "### First method\n",
    "We remove all columns containing -999. using remove_outlier_columns function."
   ]
  },
  {
   "cell_type": "code",
   "execution_count": 5,
   "metadata": {
    "collapsed": false
   },
   "outputs": [
    {
     "data": {
      "text/plain": [
       "(5000, 20)"
      ]
     },
     "execution_count": 5,
     "metadata": {},
     "output_type": "execute_result"
    }
   ],
   "source": [
    "new_tX, new_mean, new_std = method(1,tX)\n",
    "new_tX.shape"
   ]
  },
  {
   "cell_type": "markdown",
   "metadata": {},
   "source": [
    "### Second method\n",
    "We transform all the -999. values by the mean of the columns (calculated without counting the -999.)"
   ]
  },
  {
   "cell_type": "code",
   "execution_count": 6,
   "metadata": {
    "collapsed": false
   },
   "outputs": [
    {
     "data": {
      "text/plain": [
       "array([[  1.00000000e+00,   3.07797572e-01,   3.96543618e-02, ...,\n",
       "          1.13700709e+00,  -2.39839608e+00,   3.98182143e-01],\n",
       "       [  1.00000000e+00,   1.78768046e+00,   6.33440608e-01, ...,\n",
       "         -1.02859606e-16,   4.80781369e-16,  -2.31796107e-01],\n",
       "       [  1.00000000e+00,  -5.67586021e-01,  -6.41518864e-01, ...,\n",
       "         -1.02859606e-16,   4.80781369e-16,  -1.08298366e-01],\n",
       "       ..., \n",
       "       [  1.00000000e+00,   3.78993993e-01,  -1.22366112e+00, ...,\n",
       "         -1.02859606e-16,   4.80781369e-16,   2.34160770e-01],\n",
       "       [  1.00000000e+00,  -7.99685985e-01,  -1.12174093e-01, ...,\n",
       "         -1.02859606e-16,   4.80781369e-16,  -4.11062512e-01],\n",
       "       [  1.00000000e+00,   1.53027534e-01,  -1.31829705e+00, ...,\n",
       "         -1.02859606e-16,   4.80781369e-16,  -2.25396588e-01]])"
      ]
     },
     "execution_count": 6,
     "metadata": {},
     "output_type": "execute_result"
    }
   ],
   "source": [
    "mean_tX, mean_mean, mean__std = method(2,tX)\n",
    "mean_tX"
   ]
  },
  {
   "cell_type": "markdown",
   "metadata": {},
   "source": [
    "For each method 1 and 2, we will implement the 6 ML methods asked in the step 2 of the project description and will compare them."
   ]
  },
  {
   "cell_type": "markdown",
   "metadata": {},
   "source": [
    "### Third method\n"
   ]
  },
  {
   "cell_type": "code",
   "execution_count": 4,
   "metadata": {
    "collapsed": false
   },
   "outputs": [],
   "source": [
    "dup_tX, dup_mean, dup_std= method(3, tX)"
   ]
  },
  {
   "cell_type": "code",
   "execution_count": 5,
   "metadata": {
    "collapsed": false
   },
   "outputs": [
    {
     "data": {
      "text/plain": [
       "(250000, 91)"
      ]
     },
     "execution_count": 5,
     "metadata": {},
     "output_type": "execute_result"
    }
   ],
   "source": [
    "dup_tX.shape"
   ]
  },
  {
   "cell_type": "markdown",
   "metadata": {},
   "source": [
    "# Linear regression\n",
    "### with gradient descent method"
   ]
  },
  {
   "cell_type": "markdown",
   "metadata": {},
   "source": [
    "We define the parameters of the algorithm"
   ]
  },
  {
   "cell_type": "code",
   "execution_count": 10,
   "metadata": {
    "collapsed": false
   },
   "outputs": [],
   "source": [
    "max_iters = 501\n",
    "gamma = 0.04\n",
    "#initial_w1 = np.zeros((new_tX.shape[1], 1))\n",
    "#initial_w2 = np.zeros((mean_tX.shape[1], 1))\n",
    "initial_w3 = np.zeros((dup_tX.shape[1], 1))"
   ]
  },
  {
   "cell_type": "markdown",
   "metadata": {},
   "source": [
    "Method 1: We remove outliers"
   ]
  },
  {
   "cell_type": "code",
   "execution_count": 47,
   "metadata": {
    "collapsed": false
   },
   "outputs": [
    {
     "name": "stdout",
     "output_type": "stream",
     "text": [
      "Gradient Descent(0/500): loss=0.5\n",
      "Gradient Descent(100/500): loss=0.34664069018483407\n",
      "Gradient Descent(200/500): loss=0.3420824627689666\n",
      "Gradient Descent(300/500): loss=0.34050984134672735\n",
      "Gradient Descent(400/500): loss=0.33992347569151465\n",
      "Gradient Descent(500/500): loss=0.33969186313755456\n",
      "Gradient Descent(500/500): loss=0.33969186313755456\n",
      "Gradient Descent: execution time=0.118 seconds\n"
     ]
    }
   ],
   "source": [
    "start_time = datetime.datetime.now()\n",
    "best_ws1= least_square_GD(y, new_tX, initial_w1, gamma,max_iters)\n",
    "end_time = datetime.datetime.now()\n",
    "\n",
    "# Print result\n",
    "exection_time = (end_time - start_time).total_seconds()\n",
    "print(\"Gradient Descent: execution time={t:.3f} seconds\".format(t=exection_time))"
   ]
  },
  {
   "cell_type": "markdown",
   "metadata": {},
   "source": [
    "Method 2: We change outliers with mean values"
   ]
  },
  {
   "cell_type": "code",
   "execution_count": 25,
   "metadata": {
    "collapsed": false
   },
   "outputs": [
    {
     "name": "stdout",
     "output_type": "stream",
     "text": [
      "Gradient Descent(0/500): loss=0.5\n",
      "Gradient Descent(100/500): loss=0.3338048617023286\n",
      "Gradient Descent(200/500): loss=0.32988750586239085\n",
      "Gradient Descent(300/500): loss=0.3285278951623448\n",
      "Gradient Descent(400/500): loss=0.3279773616673182\n",
      "Gradient Descent(500/500): loss=0.32773906243490547\n",
      "Gradient Descent(500/500): loss=0.32773906243490547\n",
      "Gradient Descent: execution time=0.139 seconds\n"
     ]
    }
   ],
   "source": [
    "start_time = datetime.datetime.now()\n",
    "best_ws2 = least_square_GD(y, mean_tX, initial_w2, gamma,max_iters)\n",
    "end_time = datetime.datetime.now()\n",
    "\n",
    "# Print result\n",
    "exection_time = (end_time - start_time).total_seconds()\n",
    "print(\"Gradient Descent: execution time={t:.3f} seconds\".format(t=exection_time))"
   ]
  },
  {
   "cell_type": "markdown",
   "metadata": {},
   "source": [
    "### with stochastique gradient descent"
   ]
  },
  {
   "cell_type": "code",
   "execution_count": 63,
   "metadata": {
    "collapsed": true
   },
   "outputs": [],
   "source": [
    "# Define the parameters of the algorithm.\n",
    "max_iters = 21\n",
    "batch_size=1\n",
    "initial_w1 = np.zeros((new_tX.shape[1], 1))\n",
    "initial_w2 = np.zeros((mean_tX.shape[1], 1))\n",
    "\n",
    "# For the moment we use this gamma\n",
    "gamma = 0.0004\n",
    "\n"
   ]
  },
  {
   "cell_type": "markdown",
   "metadata": {},
   "source": [
    "Method 1"
   ]
  },
  {
   "cell_type": "code",
   "execution_count": 64,
   "metadata": {
    "collapsed": false
   },
   "outputs": [
    {
     "name": "stdout",
     "output_type": "stream",
     "text": [
      "Gradient Descent(0/20): loss=0.3535142666213228\n",
      "Gradient Descent(10/20): loss=0.34023996639823273\n",
      "Gradient Descent(20/20): loss=0.34031509649490976\n",
      "SGD: execution time=12.530 seconds\n"
     ]
    }
   ],
   "source": [
    "# Start SGD.\n",
    "start_time = datetime.datetime.now()\n",
    "sgd_w  = least_square_SGD(y, new_tX, batch_size, initial_w1, max_iters, gamma)\n",
    "end_time = datetime.datetime.now()\n",
    "\n",
    "# Print result\n",
    "exection_time = (end_time - start_time).total_seconds()\n",
    "print(\"SGD: execution time={t:.3f} seconds\".format(t=exection_time))"
   ]
  },
  {
   "cell_type": "markdown",
   "metadata": {},
   "source": [
    "Method 2"
   ]
  },
  {
   "cell_type": "code",
   "execution_count": 65,
   "metadata": {
    "collapsed": false
   },
   "outputs": [
    {
     "name": "stdout",
     "output_type": "stream",
     "text": [
      "Gradient Descent(0/20): loss=0.34021643318913264\n",
      "Gradient Descent(10/20): loss=0.32851879948084595\n",
      "Gradient Descent(20/20): loss=0.3288403940775238\n",
      "SGD: execution time=13.672 seconds\n"
     ]
    }
   ],
   "source": [
    "# Start SGD.\n",
    "start_time = datetime.datetime.now()\n",
    "sgd_w  = least_square_SGD(y, mean_tX, batch_size, initial_w2, max_iters, gamma)\n",
    "end_time = datetime.datetime.now()\n",
    "\n",
    "# Print result\n",
    "exection_time = (end_time - start_time).total_seconds()\n",
    "print(\"SGD: execution time={t:.3f} seconds\".format(t=exection_time))"
   ]
  },
  {
   "cell_type": "markdown",
   "metadata": {},
   "source": [
    "# Least square method"
   ]
  },
  {
   "cell_type": "markdown",
   "metadata": {},
   "source": [
    "Method 1"
   ]
  },
  {
   "cell_type": "code",
   "execution_count": 56,
   "metadata": {
    "collapsed": false
   },
   "outputs": [
    {
     "name": "stdout",
     "output_type": "stream",
     "text": [
      "(20, 1)\n",
      "0.339347093912\n"
     ]
    }
   ],
   "source": [
    "ls_weight1, ls_mse1= least_squares(y,new_tX)\n",
    "print(ls_weight1.shape)\n",
    "print(ls_mse1)"
   ]
  },
  {
   "cell_type": "markdown",
   "metadata": {},
   "source": [
    "Method 2"
   ]
  },
  {
   "cell_type": "code",
   "execution_count": 57,
   "metadata": {
    "collapsed": false
   },
   "outputs": [
    {
     "name": "stdout",
     "output_type": "stream",
     "text": [
      "(31, 1)\n",
      "0.327358937889\n"
     ]
    }
   ],
   "source": [
    "ls_weight2, ls_mse2= least_squares(y,mean_tX)\n",
    "print(ls_weight2.shape)\n",
    "print(ls_mse2)"
   ]
  },
  {
   "cell_type": "code",
   "execution_count": 89,
   "metadata": {
    "collapsed": false
   },
   "outputs": [
    {
     "name": "stdout",
     "output_type": "stream",
     "text": [
      "(91, 1)\n",
      "0.284985490011\n"
     ]
    }
   ],
   "source": [
    "ls_weight3, ls_mse3= least_squares(y,dup_tX)\n",
    "print(ls_weight3.shape)\n",
    "print(ls_mse3)"
   ]
  },
  {
   "cell_type": "markdown",
   "metadata": {
    "collapsed": true
   },
   "source": [
    "# Ridge Regression"
   ]
  },
  {
   "cell_type": "markdown",
   "metadata": {},
   "source": [
    "Define lambda parameter"
   ]
  },
  {
   "cell_type": "code",
   "execution_count": 138,
   "metadata": {
    "collapsed": true
   },
   "outputs": [],
   "source": [
    "lambda_= 0.00001"
   ]
  },
  {
   "cell_type": "markdown",
   "metadata": {},
   "source": [
    "Method 1"
   ]
  },
  {
   "cell_type": "code",
   "execution_count": 139,
   "metadata": {
    "collapsed": false
   },
   "outputs": [
    {
     "data": {
      "text/plain": [
       "((20, 1), 0.084879941509701171)"
      ]
     },
     "execution_count": 139,
     "metadata": {},
     "output_type": "execute_result"
    }
   ],
   "source": [
    "rr_w1, rr_mse1 = ridge_regression(y, new_tX, lambda_)\n",
    "rr_w1.shape, rr_mse1"
   ]
  },
  {
   "cell_type": "markdown",
   "metadata": {},
   "source": [
    "Method 2"
   ]
  },
  {
   "cell_type": "code",
   "execution_count": 140,
   "metadata": {
    "collapsed": false
   },
   "outputs": [
    {
     "data": {
      "text/plain": [
       "((31, 1), 0.081885074116411716)"
      ]
     },
     "execution_count": 140,
     "metadata": {},
     "output_type": "execute_result"
    }
   ],
   "source": [
    "rr_w2, rr_mse2 = ridge_regression(y, mean_tX, lambda_)\n",
    "rr_w2.shape, rr_mse2"
   ]
  },
  {
   "cell_type": "markdown",
   "metadata": {},
   "source": [
    "# Logistic Regression"
   ]
  },
  {
   "cell_type": "markdown",
   "metadata": {},
   "source": [
    "Only for logistic regression, we change all -1 of y variable into 0, so that we can reuse all the functions we have already implemented for the course."
   ]
  },
  {
   "cell_type": "code",
   "execution_count": 7,
   "metadata": {
    "collapsed": true
   },
   "outputs": [],
   "source": [
    "y[y==-1] = 0"
   ]
  },
  {
   "cell_type": "markdown",
   "metadata": {
    "collapsed": true
   },
   "source": [
    "### with gradient descent method"
   ]
  },
  {
   "cell_type": "markdown",
   "metadata": {},
   "source": [
    "We define some parameters."
   ]
  },
  {
   "cell_type": "code",
   "execution_count": 91,
   "metadata": {
    "collapsed": true
   },
   "outputs": [],
   "source": [
    "max_iters_gr = 1501\n",
    "alpha_gr = 0.00007"
   ]
  },
  {
   "cell_type": "markdown",
   "metadata": {},
   "source": [
    "We call logistic regression with gradient descent -> with true argument "
   ]
  },
  {
   "cell_type": "markdown",
   "metadata": {},
   "source": [
    "Method 1"
   ]
  },
  {
   "cell_type": "code",
   "execution_count": 96,
   "metadata": {
    "collapsed": false
   },
   "outputs": [
    {
     "name": "stdout",
     "output_type": "stream",
     "text": [
      "Current iteration=0, the loss=3465.735902799727\n",
      "Current iteration=200, the loss=2519.935860886566\n",
      "Current iteration=400, the loss=2503.971027748691\n",
      "Current iteration=600, the loss=2500.5371291791503\n",
      "Current iteration=800, the loss=2499.6369512030624\n",
      "Current iteration=1000, the loss=2499.3769424022385\n",
      "Current iteration=1200, the loss=2499.2979090108206\n",
      "Current iteration=1400, the loss=2499.2731955062186\n",
      "The loss=2499.268177831087\n",
      "SGD: execution time=2.432 seconds\n"
     ]
    }
   ],
   "source": [
    "# Start SGD.\n",
    "start_time = datetime.datetime.now()\n",
    "log_loss1,log_w1 = logistic_regression(y, new_tX, initial_w1, alpha_gr, max_iters_gr, True)\n",
    "end_time = datetime.datetime.now()\n",
    "\n",
    "# Print result\n",
    "exection_time = (end_time - start_time).total_seconds()\n",
    "print(\"SGD: execution time={t:.3f} seconds\".format(t=exection_time))"
   ]
  },
  {
   "cell_type": "markdown",
   "metadata": {},
   "source": [
    "Method 2"
   ]
  },
  {
   "cell_type": "code",
   "execution_count": 97,
   "metadata": {
    "collapsed": false
   },
   "outputs": [
    {
     "name": "stdout",
     "output_type": "stream",
     "text": [
      "Current iteration=0, the loss=3465.735902799727\n",
      "Current iteration=200, the loss=2441.741568859311\n",
      "Current iteration=400, the loss=2427.069526851878\n",
      "Current iteration=600, the loss=2423.3358966891474\n",
      "Current iteration=800, the loss=2422.1111050467716\n",
      "Current iteration=1000, the loss=2421.6670754042498\n",
      "Current iteration=1200, the loss=2421.4979986190306\n",
      "Current iteration=1400, the loss=2421.431848726739\n",
      "The loss=2421.4157403313693\n",
      "SGD: execution time=3.294 seconds\n"
     ]
    }
   ],
   "source": [
    "# Start SGD.\n",
    "start_time = datetime.datetime.now()\n",
    "log_loss2,log_w2 = logistic_regression(y, mean_tX, initial_w2, alpha_gr, max_iters_gr, True)\n",
    "end_time = datetime.datetime.now()\n",
    "\n",
    "# Print result\n",
    "exection_time = (end_time - start_time).total_seconds()\n",
    "print(\"SGD: execution time={t:.3f} seconds\".format(t=exection_time))"
   ]
  },
  {
   "cell_type": "markdown",
   "metadata": {},
   "source": [
    "Method 3"
   ]
  },
  {
   "cell_type": "code",
   "execution_count": 95,
   "metadata": {
    "collapsed": false
   },
   "outputs": [
    {
     "name": "stdout",
     "output_type": "stream",
     "text": [
      "Current iteration=0, the loss=3465.735902799727\n",
      "Current iteration=200, the loss=2197.3709737807376\n",
      "Current iteration=400, the loss=2135.783330433328\n",
      "Current iteration=600, the loss=2100.2465846756886\n",
      "Current iteration=800, the loss=2076.051036054824\n",
      "Current iteration=1000, the loss=2058.3854434151262\n",
      "Current iteration=1200, the loss=2044.886063344501\n",
      "Current iteration=1400, the loss=2034.210845451194\n",
      "The loss=2029.6619393505387\n",
      "SGD: execution time=12.225 seconds\n"
     ]
    }
   ],
   "source": [
    "# Start SGD.\n",
    "start_time = datetime.datetime.now()\n",
    "log_loss2,log_w2 = logistic_regression(y, dup_tX, initial_w3, alpha_gr, max_iters_gr, True)\n",
    "end_time = datetime.datetime.now()\n",
    "\n",
    "# Print result\n",
    "exection_time = (end_time - start_time).total_seconds()\n",
    "print(\"SGD: execution time={t:.3f} seconds\".format(t=exection_time))"
   ]
  },
  {
   "cell_type": "markdown",
   "metadata": {},
   "source": [
    "### with newton's method"
   ]
  },
  {
   "cell_type": "markdown",
   "metadata": {},
   "source": [
    "define some parameters"
   ]
  },
  {
   "cell_type": "code",
   "execution_count": 8,
   "metadata": {
    "collapsed": true
   },
   "outputs": [],
   "source": [
    "max_iters_newt = 201\n",
    "alpha_newt = 0.03"
   ]
  },
  {
   "cell_type": "markdown",
   "metadata": {},
   "source": [
    "We call logistic regression with newton method --> with false argument "
   ]
  },
  {
   "cell_type": "markdown",
   "metadata": {},
   "source": [
    "method 1"
   ]
  },
  {
   "cell_type": "code",
   "execution_count": 123,
   "metadata": {
    "collapsed": false
   },
   "outputs": [
    {
     "name": "stdout",
     "output_type": "stream",
     "text": [
      "Current iteration=0, the loss=3465.735902799727\n",
      "Current iteration=200, the loss=2498.1164969445135\n",
      "Current iteration=400, the loss=2498.102099654334\n",
      "Current iteration=600, the loss=2498.102099580248\n",
      "Current iteration=800, the loss=2498.102099580261\n",
      "Current iteration=1000, the loss=2498.102099580381\n",
      "The loss=2498.102099580381\n"
     ]
    }
   ],
   "source": [
    "# Start Newton method.\n",
    "start_time = datetime.datetime.now()\n",
    "l,w = logistic_regression(y, new_tX, initial_w1, alpha_newt, max_iters_newt, False)\n",
    "end_time = datetime.datetime.now()\n",
    "\n",
    "# Print result\n",
    "exection_time = (end_time - start_time).total_seconds()\n",
    "print(\"SGD: execution time={t:.3f} seconds\".format(t=exection_time))"
   ]
  },
  {
   "cell_type": "markdown",
   "metadata": {},
   "source": [
    "method 2"
   ]
  },
  {
   "cell_type": "code",
   "execution_count": 110,
   "metadata": {
    "collapsed": false
   },
   "outputs": [
    {
     "ename": "ValueError",
     "evalue": "operands could not be broadcast together with shapes (250000,1) (5000,1) ",
     "output_type": "error",
     "traceback": [
      "\u001b[0;31m---------------------------------------------------------------------------\u001b[0m",
      "\u001b[0;31mValueError\u001b[0m                                Traceback (most recent call last)",
      "\u001b[0;32m<ipython-input-110-e6bb1bedf309>\u001b[0m in \u001b[0;36m<module>\u001b[0;34m()\u001b[0m\n\u001b[1;32m      1\u001b[0m \u001b[0;31m# Start Newton method.\u001b[0m\u001b[0;34m\u001b[0m\u001b[0;34m\u001b[0m\u001b[0m\n\u001b[1;32m      2\u001b[0m \u001b[0mstart_time\u001b[0m \u001b[0;34m=\u001b[0m \u001b[0mdatetime\u001b[0m\u001b[0;34m.\u001b[0m\u001b[0mdatetime\u001b[0m\u001b[0;34m.\u001b[0m\u001b[0mnow\u001b[0m\u001b[0;34m(\u001b[0m\u001b[0;34m)\u001b[0m\u001b[0;34m\u001b[0m\u001b[0m\n\u001b[0;32m----> 3\u001b[0;31m \u001b[0ml\u001b[0m\u001b[0;34m,\u001b[0m\u001b[0mw\u001b[0m \u001b[0;34m=\u001b[0m \u001b[0mlogistic_regression\u001b[0m\u001b[0;34m(\u001b[0m\u001b[0my\u001b[0m\u001b[0;34m,\u001b[0m \u001b[0mmean_tX\u001b[0m\u001b[0;34m,\u001b[0m \u001b[0minitial_w2\u001b[0m\u001b[0;34m,\u001b[0m \u001b[0malpha_newt\u001b[0m\u001b[0;34m,\u001b[0m \u001b[0mmax_iters_newt\u001b[0m\u001b[0;34m,\u001b[0m \u001b[0;32mFalse\u001b[0m\u001b[0;34m)\u001b[0m\u001b[0;34m\u001b[0m\u001b[0m\n\u001b[0m\u001b[1;32m      4\u001b[0m \u001b[0mend_time\u001b[0m \u001b[0;34m=\u001b[0m \u001b[0mdatetime\u001b[0m\u001b[0;34m.\u001b[0m\u001b[0mdatetime\u001b[0m\u001b[0;34m.\u001b[0m\u001b[0mnow\u001b[0m\u001b[0;34m(\u001b[0m\u001b[0;34m)\u001b[0m\u001b[0;34m\u001b[0m\u001b[0m\n\u001b[1;32m      5\u001b[0m \u001b[0;34m\u001b[0m\u001b[0m\n",
      "\u001b[0;32m/Users/Gusto/ML_project1/helpers.py\u001b[0m in \u001b[0;36mlogistic_regression\u001b[0;34m(y, tx, initial_w, alpha, max_iters, method)\u001b[0m\n\u001b[1;32m    184\u001b[0m \u001b[0;34m\u001b[0m\u001b[0m\n\u001b[1;32m    185\u001b[0m         \u001b[0;31m# get loss and and gradient\u001b[0m\u001b[0;34m\u001b[0m\u001b[0;34m\u001b[0m\u001b[0m\n\u001b[0;32m--> 186\u001b[0;31m         \u001b[0mloss\u001b[0m\u001b[0;34m,\u001b[0m \u001b[0mgrad\u001b[0m\u001b[0;34m,\u001b[0m \u001b[0mhess\u001b[0m \u001b[0;34m=\u001b[0m \u001b[0mlogistic_regression_aid\u001b[0m\u001b[0;34m(\u001b[0m\u001b[0my\u001b[0m\u001b[0;34m,\u001b[0m \u001b[0mtx\u001b[0m\u001b[0;34m,\u001b[0m \u001b[0mw\u001b[0m\u001b[0;34m)\u001b[0m\u001b[0;34m\u001b[0m\u001b[0m\n\u001b[0m\u001b[1;32m    187\u001b[0m \u001b[0;34m\u001b[0m\u001b[0m\n\u001b[1;32m    188\u001b[0m         \u001b[0;31m# We print loss each 200 iteration\u001b[0m\u001b[0;34m\u001b[0m\u001b[0;34m\u001b[0m\u001b[0m\n",
      "\u001b[0;32m/Users/Gusto/ML_project1/helpers.py\u001b[0m in \u001b[0;36mlogistic_regression_aid\u001b[0;34m(y, tx, w)\u001b[0m\n\u001b[1;32m    232\u001b[0m     \u001b[0;34m\"\"\"return the loss, gradient and hessian !\"\"\"\u001b[0m\u001b[0;34m\u001b[0m\u001b[0m\n\u001b[1;32m    233\u001b[0m \u001b[0;34m\u001b[0m\u001b[0m\n\u001b[0;32m--> 234\u001b[0;31m     \u001b[0;32mreturn\u001b[0m \u001b[0mcalculate_logistic_loss\u001b[0m\u001b[0;34m(\u001b[0m\u001b[0my\u001b[0m\u001b[0;34m,\u001b[0m \u001b[0mtx\u001b[0m\u001b[0;34m,\u001b[0m \u001b[0mw\u001b[0m\u001b[0;34m)\u001b[0m\u001b[0;34m,\u001b[0m \u001b[0mcalculate_logistic_gradient\u001b[0m\u001b[0;34m(\u001b[0m\u001b[0my\u001b[0m\u001b[0;34m,\u001b[0m \u001b[0mtx\u001b[0m\u001b[0;34m,\u001b[0m \u001b[0mw\u001b[0m\u001b[0;34m)\u001b[0m\u001b[0;34m,\u001b[0m \u001b[0mcalculate_logistic_hessian\u001b[0m\u001b[0;34m(\u001b[0m\u001b[0mtx\u001b[0m\u001b[0;34m,\u001b[0m \u001b[0mw\u001b[0m\u001b[0;34m)\u001b[0m\u001b[0;34m\u001b[0m\u001b[0m\n\u001b[0m\u001b[1;32m    235\u001b[0m \u001b[0;34m\u001b[0m\u001b[0m\n\u001b[1;32m    236\u001b[0m \u001b[0;34m\u001b[0m\u001b[0m\n",
      "\u001b[0;32m/Users/Gusto/ML_project1/helpers.py\u001b[0m in \u001b[0;36mcalculate_logistic_loss\u001b[0;34m(y, tx, w)\u001b[0m\n\u001b[1;32m    150\u001b[0m     \u001b[0;32melse\u001b[0m\u001b[0;34m:\u001b[0m\u001b[0;34m\u001b[0m\u001b[0m\n\u001b[1;32m    151\u001b[0m         \u001b[0mz\u001b[0m\u001b[0;34m=\u001b[0m\u001b[0my\u001b[0m\u001b[0;34m\u001b[0m\u001b[0m\n\u001b[0;32m--> 152\u001b[0;31m     \u001b[0mlogistic_loss\u001b[0m \u001b[0;34m=\u001b[0m \u001b[0mnp\u001b[0m\u001b[0;34m.\u001b[0m\u001b[0mlog\u001b[0m\u001b[0;34m(\u001b[0m\u001b[0;36m1\u001b[0m\u001b[0;34m+\u001b[0m\u001b[0mnp\u001b[0m\u001b[0;34m.\u001b[0m\u001b[0mexp\u001b[0m\u001b[0;34m(\u001b[0m\u001b[0mnp\u001b[0m\u001b[0;34m.\u001b[0m\u001b[0mdot\u001b[0m\u001b[0;34m(\u001b[0m\u001b[0mtx\u001b[0m\u001b[0;34m,\u001b[0m\u001b[0mw\u001b[0m\u001b[0;34m)\u001b[0m\u001b[0;34m)\u001b[0m\u001b[0;34m)\u001b[0m\u001b[0;34m-\u001b[0m\u001b[0mz\u001b[0m\u001b[0;34m*\u001b[0m\u001b[0mnp\u001b[0m\u001b[0;34m.\u001b[0m\u001b[0mdot\u001b[0m\u001b[0;34m(\u001b[0m\u001b[0mtx\u001b[0m\u001b[0;34m,\u001b[0m\u001b[0mw\u001b[0m\u001b[0;34m)\u001b[0m\u001b[0;34m\u001b[0m\u001b[0m\n\u001b[0m\u001b[1;32m    153\u001b[0m     \u001b[0;32mreturn\u001b[0m \u001b[0mnp\u001b[0m\u001b[0;34m.\u001b[0m\u001b[0msum\u001b[0m\u001b[0;34m(\u001b[0m\u001b[0mlogistic_loss\u001b[0m\u001b[0;34m)\u001b[0m\u001b[0;34m\u001b[0m\u001b[0m\n\u001b[1;32m    154\u001b[0m \u001b[0;34m\u001b[0m\u001b[0m\n",
      "\u001b[0;31mValueError\u001b[0m: operands could not be broadcast together with shapes (250000,1) (5000,1) "
     ]
    }
   ],
   "source": [
    "# Start Newton method.\n",
    "start_time = datetime.datetime.now()\n",
    "l,w = logistic_regression(y, mean_tX, initial_w2, alpha_newt, max_iters_newt, False)\n",
    "end_time = datetime.datetime.now()\n",
    "\n",
    "# Print result\n",
    "exection_time = (end_time - start_time).total_seconds()\n",
    "print(\"SGD: execution time={t:.3f} seconds\".format(t=exection_time))"
   ]
  },
  {
   "cell_type": "markdown",
   "metadata": {},
   "source": [
    "method 3"
   ]
  },
  {
   "cell_type": "code",
   "execution_count": 11,
   "metadata": {
    "collapsed": false
   },
   "outputs": [
    {
     "name": "stdout",
     "output_type": "stream",
     "text": [
      "Current iteration=0, the loss=173286.79513998624\n",
      "Current iteration=200, the loss=106224.88364393148\n",
      "The loss=106224.88364393148\n",
      "SGD: execution time=98.183 seconds\n"
     ]
    }
   ],
   "source": [
    "# Start Newton method.\n",
    "start_time = datetime.datetime.now()\n",
    "l,w = logistic_regression(y, dup_tX, initial_w3, alpha_newt, max_iters_newt, False)\n",
    "end_time = datetime.datetime.now()\n",
    "\n",
    "# Print result\n",
    "exection_time = (end_time - start_time).total_seconds()\n",
    "print(\"SGD: execution time={t:.3f} seconds\".format(t=exection_time))"
   ]
  },
  {
   "cell_type": "code",
   "execution_count": 13,
   "metadata": {
    "collapsed": false
   },
   "outputs": [
    {
     "data": {
      "text/plain": [
       "(91, 1)"
      ]
     },
     "execution_count": 13,
     "metadata": {},
     "output_type": "execute_result"
    }
   ],
   "source": [
    "w.shape"
   ]
  },
  {
   "cell_type": "markdown",
   "metadata": {},
   "source": [
    "# Penalized Logistic Regression\n",
    "### with gradient descent"
   ]
  },
  {
   "cell_type": "markdown",
   "metadata": {},
   "source": [
    "Define some parameters"
   ]
  },
  {
   "cell_type": "code",
   "execution_count": 15,
   "metadata": {
    "collapsed": false
   },
   "outputs": [],
   "source": [
    "max_iter = 20\n",
    "alpha = 0.0004\n",
    "lambda_ = 0.001"
   ]
  },
  {
   "cell_type": "code",
   "execution_count": 32,
   "metadata": {
    "collapsed": false
   },
   "outputs": [
    {
     "name": "stdout",
     "output_type": "stream",
     "text": [
      "Current iteration=0, the loss=3465.735902799727\n",
      "The loss=2555.967870559867\n"
     ]
    }
   ],
   "source": [
    "reg_loss1, reg_w2 = reg_logistic_regression(y, new_tX, initial_w1, lambda_, alpha, max_iter)"
   ]
  },
  {
   "cell_type": "code",
   "execution_count": 30,
   "metadata": {
    "collapsed": false
   },
   "outputs": [
    {
     "name": "stdout",
     "output_type": "stream",
     "text": [
      "Current iteration=0, the loss=3465.735902799727\n",
      "The loss=2482.690875143767\n"
     ]
    }
   ],
   "source": [
    "reg_loss2, reg_w2 = reg_logistic_regression(y, mean_tX, initial_w2, lambda_, alpha, max_iter)"
   ]
  },
  {
   "cell_type": "markdown",
   "metadata": {},
   "source": [
    "# Cross Validation\n",
    "## Ploting on vairious lambda"
   ]
  },
  {
   "cell_type": "code",
   "execution_count": 18,
   "metadata": {
    "collapsed": true
   },
   "outputs": [],
   "source": [
    "reshape_y=y[:,0]"
   ]
  },
  {
   "cell_type": "code",
   "execution_count": 28,
   "metadata": {
    "collapsed": false
   },
   "outputs": [
    {
     "data": {
      "text/plain": [
       "0.0004"
      ]
     },
     "execution_count": 28,
     "metadata": {},
     "output_type": "execute_result"
    }
   ],
   "source": [
    "alpha"
   ]
  },
  {
   "cell_type": "code",
   "execution_count": 39,
   "metadata": {
    "collapsed": false,
    "scrolled": false
   },
   "outputs": [
    {
     "name": "stdout",
     "output_type": "stream",
     "text": [
      "(3, 1666)\n",
      "(5000, 1)\n",
      "(5000, 20)\n",
      "Current iteration=0, the loss=2310.9526999868576\n",
      "The loss=1706.2500256988496\n",
      "Current iteration=0, the loss=2310.9526999868576\n",
      "The loss=1721.4391549146555\n",
      "Current iteration=0, the loss=2310.9526999868576\n",
      "The loss=1695.6091645731997\n",
      "Current iteration=0, the loss=2310.9526999868576\n",
      "The loss=1706.2500332756122\n",
      "Current iteration=0, the loss=2310.9526999868576\n",
      "The loss=1721.4391623837732\n",
      "Current iteration=0, the loss=2310.9526999868576\n",
      "The loss=1695.609172256777\n",
      "Current iteration=0, the loss=2310.9526999868576\n",
      "The loss=1706.2524292428052\n",
      "Current iteration=0, the loss=2310.9526999868576\n",
      "The loss=1721.4415243107444\n",
      "Current iteration=0, the loss=2310.9526999868576\n",
      "The loss=1695.6116020015947\n",
      "Current iteration=0, the loss=2310.9526999868576\n",
      "The loss=1707.008558594978\n",
      "Current iteration=0, the loss=2310.9526999868576\n",
      "The loss=1722.186892892579\n",
      "Current iteration=0, the loss=2310.9526999868576\n",
      "The loss=1696.378401406184\n",
      "Current iteration=0, the loss=2310.9526999868576\n",
      "The loss=1856.11009093617\n",
      "Current iteration=0, the loss=2310.9526999868576\n",
      "The loss=1867.6814418032386\n",
      "Current iteration=0, the loss=2310.9526999868576\n",
      "The loss=1847.91032444055\n"
     ]
    },
    {
     "data": {
      "image/png": "[encoded data removed]",
      "text/plain": [
       "<matplotlib.figure.Figure at 0x137bd2b38>"
      ]
     },
     "metadata": {},
     "output_type": "display_data"
    }
   ],
   "source": [
    "def cross_validation_demo(seed, initial_w, alpha, max_iter, degree,k_fold,lambdas):\n",
    "    # split data in k fold\n",
    "    k_indices = build_k_indices(y, k_fold, seed)\n",
    "    print(k_indices.shape)\n",
    "    # define lists to store the loss of training data and test data\n",
    "    rmse_tr = []\n",
    "    rmse_te = []\n",
    "    rmse_te_var=[]\n",
    "\n",
    "    # cross validation: TODO\n",
    "    print(y.shape)\n",
    "    print(new_tX.shape)\n",
    "    \n",
    "    for lambda_ in lambdas:\n",
    "        loss_tr, loss_te, rmses_test = cross_validation(y, new_tX, initial_w1, alpha, max_iter, k_indices, k_fold, lambda_, degree)\n",
    "        rmse_tr.append(loss_tr)\n",
    "        rmse_te.append(loss_te)\n",
    "        rmse_te_var.append(rmses_test)\n",
    "    \n",
    "    # ***************************************************    \n",
    "    cross_validation_visualization(lambdas, rmse_tr, rmse_te)\n",
    "    \n",
    "     # Create a figure instance\n",
    "    #fig = plt.figure(1, figsize=(9, 6))\n",
    "\n",
    "    # Create an axes instance\n",
    "    #ax = fig.add_subplot(111)\n",
    "\n",
    "    # Create the boxplot\n",
    "    #bp = ax.boxplot(rmse_te_var)\n",
    "\n",
    "cross_validation_demo(2000, initial_w1, alpha, max_iter, 1, 3, np.logspace(-8, 2, 5))"
   ]
  },
  {
   "cell_type": "markdown",
   "metadata": {},
   "source": [
    "## Do your thing crazy machine learning thing here :) ..."
   ]
  },
  {
   "cell_type": "markdown",
   "metadata": {},
   "source": [
    "## Generate predictions and save ouput in csv format for submission:"
   ]
  },
  {
   "cell_type": "code",
   "execution_count": 14,
   "metadata": {
    "collapsed": false
   },
   "outputs": [],
   "source": [
    "DATA_TEST_PATH = 'test.csv' # TODO: download train data and supply path here \n",
    "_, tX_test, ids_test = load_csv_data(DATA_TEST_PATH)"
   ]
  },
  {
   "cell_type": "markdown",
   "metadata": {},
   "source": [
    "Pour la méthode 2:"
   ]
  },
  {
   "cell_type": "code",
   "execution_count": 31,
   "metadata": {
    "collapsed": true
   },
   "outputs": [],
   "source": [
    "mean_tX_test, mean_mean, mean__std = standardize(undefToMeanMean(tX_test), mean_x=None, std_x=None)"
   ]
  },
  {
   "cell_type": "markdown",
   "metadata": {},
   "source": [
    "Pour la méthode 3:"
   ]
  },
  {
   "cell_type": "code",
   "execution_count": 15,
   "metadata": {
    "collapsed": true
   },
   "outputs": [],
   "source": [
    "dup_tX_test,dup_mean, dup_std = standardize(build_poly(undefToMeanMean(tX_test),3), mean_x=None, std_x=None)"
   ]
  },
  {
   "cell_type": "code",
   "execution_count": 16,
   "metadata": {
    "collapsed": false
   },
   "outputs": [
    {
     "data": {
      "text/plain": [
       "(568238, 91)"
      ]
     },
     "execution_count": 16,
     "metadata": {},
     "output_type": "execute_result"
    }
   ],
   "source": [
    "dup_tX_test.shape"
   ]
  },
  {
   "cell_type": "code",
   "execution_count": 19,
   "metadata": {
    "collapsed": false
   },
   "outputs": [],
   "source": [
    "OUTPUT_PATH = 'dup_tX_newton.csv' # TODO: fill in desired name of output file for submission\n",
    "y_pred = predict_labels(w, dup_tX_test, logistic= True)\n",
    "create_csv_submission(ids_test, y_pred, OUTPUT_PATH)"
   ]
  },
  {
   "cell_type": "code",
   "execution_count": 32,
   "metadata": {
    "collapsed": false
   },
   "outputs": [
    {
     "data": {
      "text/plain": [
       "array([[-4.20967426],\n",
       "       [-2.57229167],\n",
       "       [-1.42675124],\n",
       "       ..., \n",
       "       [-0.25694514],\n",
       "       [-0.02774611],\n",
       "       [-2.87362728]])"
      ]
     },
     "execution_count": 32,
     "metadata": {},
     "output_type": "execute_result"
    }
   ],
   "source": [
    "np.dot(mean_tX_test, reg_w)"
   ]
  },
  {
   "cell_type": "code",
   "execution_count": null,
   "metadata": {
    "collapsed": true
   },
   "outputs": [],
   "source": []
  }
 ],
 "metadata": {
  "anaconda-cloud": {},
  "kernelspec": {
   "display_name": "Python [Root]",
   "language": "python",
   "name": "Python [Root]"
  },
  "language_info": {
   "codemirror_mode": {
    "name": "ipython",
    "version": 3
   },
   "file_extension": ".py",
   "mimetype": "text/x-python",
   "name": "python",
   "nbconvert_exporter": "python",
   "pygments_lexer": "ipython3",
   "version": "3.5.2"
  }
 },
 "nbformat": 4,
 "nbformat_minor": 0
}
