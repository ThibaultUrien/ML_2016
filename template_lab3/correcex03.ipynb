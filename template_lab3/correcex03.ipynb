{
 "cells": [
  {
   "cell_type": "code",
   "execution_count": 8,
   "metadata": {
    "collapsed": false
   },
   "outputs": [
    {
     "name": "stdout",
     "output_type": "stream",
     "text": [
      "The autoreload extension is already loaded. To reload it, use:\n",
      "  %reload_ext autoreload\n"
     ]
    }
   ],
   "source": [
    "# Useful starting lines\n",
    "%matplotlib inline\n",
    "import numpy as np\n",
    "import matplotlib.pyplot as plt\n",
    "%load_ext autoreload\n",
    "%autoreload 2"
   ]
  },
  {
   "cell_type": "markdown",
   "metadata": {},
   "source": [
    "# Least squares and linear basis functions models\n",
    "## Least squares"
   ]
  },
  {
   "cell_type": "code",
   "execution_count": 9,
   "metadata": {
    "collapsed": true
   },
   "outputs": [],
   "source": [
    "def least_squares(y, tx):\n",
    "    \"\"\"calculate the least squares solution.\"\"\"\n",
    "    gram=np.dot(np.transpose(tx),tx)\n",
    "    w=np.dot(np.dot(np.linalg.inv(gram),np.transpose(tx)),y)\n",
    "    e=y-np.dot(tx,w)\n",
    "    mse=np.linalg.norm(e)**2\n",
    "    mse=mse/(2*len(y))\n",
    "    return mse,w"
   ]
  },
  {
   "cell_type": "markdown",
   "metadata": {},
   "source": [
    "### Load the data\n",
    "Here we will reuse the dataset `height_weight_genders.csv` from previous exercise section to check the correctness of your implementation. Please compare it with your previous result."
   ]
  },
  {
   "cell_type": "code",
   "execution_count": 13,
   "metadata": {
    "collapsed": false
   },
   "outputs": [
    {
     "name": "stdout",
     "output_type": "stream",
     "text": [
      "[ 73.293922    13.47971243]\n",
      "15.3858878688\n"
     ]
    }
   ],
   "source": [
    "from helpers import *\n",
    "#from grid_search import generate_w, get_best_parameters\n",
    "#from plots import grid_visualization\n",
    "import datetime\n",
    "\n",
    "\n",
    "def test_your_least_squares():\n",
    "    #generation of the data \n",
    "    height, weight, gender = load_data_from_ex02(sub_sample=False, add_outlier=False)\n",
    "    x, mean_x, std_x = standardize(height)\n",
    "    y, tx = build_model_data(x, weight)\n",
    "    \n",
    "    ##from td 2\n",
    "    # Generate the grid of parameters to be swept\n",
    "    #grid_w0, grid_w1 = generate_w(num_intervals=150)\n",
    "\n",
    "    # Start the grid search\n",
    "    #start_time = datetime.datetime.now()\n",
    "    #grid_losses = grid_search(y, tx, grid_w0, grid_w1)\n",
    "\n",
    "    # Select the best combinaison\n",
    "    #loss_star, w0_star, w1_star = get_best_parameters(grid_w0, grid_w1, grid_losses)\n",
    "    #end_time = datetime.datetime.now()\n",
    "    #execution_time = (end_time - start_time).total_seconds()\n",
    "\n",
    "    # Print the results\n",
    "    #print(\"Grid Search: loss*={l}, w0*={w0}, w1*={w1}, execution time={t:.3f} seconds\".format(\n",
    "    #      l=loss_star, w0=w0_star, w1=w1_star, t=execution_time))\n",
    "    \n",
    "    #then results of analytic least squares\n",
    "    #start_time2 = datetime.datetime.now()\n",
    "    mse,wls=least_squares(y, tx)\n",
    "    print(wls)\n",
    "    print(mse)\n",
    "    #end_time2 = datetime.datetime.now()\n",
    "    #execution_time2 = (end_time2 - start_time2).total_seconds()\n",
    "    #print(\"analytic least square : loss*={l}, w0*={w0}, w1*={w1}, execution time={t:.6f} seconds\".format(\n",
    "    #      l=mse, w0=wls[0], w1=wls[0],t=execution_time2))\n",
    "\n",
    "test_your_least_squares()"
   ]
  },
  {
   "cell_type": "markdown",
   "metadata": {},
   "source": [
    "## Least squares with a linear basis function model\n",
    "Start from this section, we will use the dataset `dataEx3.csv`.\n",
    "\n",
    "### Implement polynomial basis functions"
   ]
  },
  {
   "cell_type": "code",
   "execution_count": 31,
   "metadata": {
    "collapsed": false,
    "scrolled": true
   },
   "outputs": [
    {
     "name": "stdout",
     "output_type": "stream",
     "text": [
      "shape of x (50,)\n",
      "shape of y (50,)\n"
     ]
    }
   ],
   "source": [
    "# load dataset\n",
    "x, y = load_data()\n",
    "print(\"shape of x {}\".format(x.shape))\n",
    "print(\"shape of y {}\".format(y.shape))"
   ]
  },
  {
   "cell_type": "code",
   "execution_count": 32,
   "metadata": {
    "collapsed": false
   },
   "outputs": [],
   "source": [
    "def build_poly(x, degree):\n",
    "    \"\"\"polynomial basis functions for input data x, for j=0 up to j=degree.\"\"\"\n",
    "    phi=np.zeros((x.shape[0],degree+1))\n",
    "    for i in range(x.shape[0]):\n",
    "        for j in range (degree+1):\n",
    "            phi[i,j]=x[i]**j\n",
    "    return phi "
   ]
  },
  {
   "cell_type": "markdown",
   "metadata": {},
   "source": [
    "Let us play with polynomial regression. Note that we will use your implemented function `compute_mse`. Please copy and paste your implementation from exercise02."
   ]
  },
  {
   "cell_type": "code",
   "execution_count": 33,
   "metadata": {
    "collapsed": false
   },
   "outputs": [
    {
     "name": "stdout",
     "output_type": "stream",
     "text": [
      "Processing 1th experiment, degree=1, rmse=0.47187607963421874\n",
      "Processing 2th experiment, degree=3, rmse=0.25858277667737484\n",
      "Processing 3th experiment, degree=7, rmse=0.24965870360907202\n",
      "Processing 4th experiment, degree=12, rmse=1.3106193798124994\n"
     ]
    },
    {
     "data": {
      "image/png": "[encoded data removed]",
      "text/plain": [
       "<matplotlib.figure.Figure at 0x10da9bf98>"
      ]
     },
     "metadata": {},
     "output_type": "display_data"
    }
   ],
   "source": [
    "from plots import *\n",
    "\n",
    "def polynomial_regression():\n",
    "    \"\"\"Constructing the polynomial basis function expansion of the data,\n",
    "       and then running least squares regression.\"\"\"\n",
    "    # define parameters\n",
    "    degrees = [1, 3, 7, 12]\n",
    "    \n",
    "    # define the structure of figure\n",
    "    num_row = 2\n",
    "    num_col = 2\n",
    "    f, axs = plt.subplots(num_row, num_col)\n",
    "\n",
    "    for ind, degree in enumerate(degrees):\n",
    "        #constructing the polynomial transformation of the data for this degree bound\n",
    "        phi=build_poly(x, degree)\n",
    "        #debug : print phi\n",
    "        #print(\"shape of phi : \", phi.shape)\n",
    "        # least square and calculate rmse: TODO\n",
    "        mse,weight=least_squares(y, phi)\n",
    "        rmse=(2*mse)**(0.5)\n",
    "        # debug print(\"weight : \", weight)\n",
    "        print(\"Processing {i}th experiment, degree={d}, rmse={loss}\".format(\n",
    "              i=ind + 1, d=degree, loss=rmse))\n",
    "        # plot fit\n",
    "        plot_fitted_curve(\n",
    "            y, x, weight, degree, axs[ind // num_col][ind % num_col])\n",
    "    plt.tight_layout()\n",
    "    plt.savefig(\"visualize_polynomial_regression\")\n",
    "    plt.show()\n",
    "\n",
    "\n",
    "polynomial_regression()"
   ]
  },
  {
   "cell_type": "markdown",
   "metadata": {},
   "source": [
    "# Evaluating model predication performance\n",
    "\n",
    "Let us show the train and test splits for various polynomial degrees. First of all, please fill in the function `split_data()`"
   ]
  },
  {
   "cell_type": "code",
   "execution_count": 34,
   "metadata": {
    "collapsed": false
   },
   "outputs": [
    {
     "name": "stdout",
     "output_type": "stream",
     "text": [
      "x =  [ 0.35237491  4.8951233   1.86662437  3.50706129  3.38087384  0.73093728\n",
      "  3.88562366  5.65224803  6.28318531  2.37137419  0.60474982  3.63324875\n",
      "  0.85712473  2.49756165  1.61424946  5.39987312  6.15699785  6.0308104\n",
      "  0.47856237  2.87612401  4.51656093  0.98331219  1.10949964  0.1\n",
      "  2.11899928  1.36187455  4.01181111  5.77843549  4.26418602  1.2356871\n",
      "  2.24518674  1.99281183  1.48806201  4.64274839  4.39037348  3.00231147\n",
      "  0.22618746  5.27368567  5.02131076  5.52606058  2.6237491   4.76893584\n",
      "  3.12849893  1.74043692  3.7594362   3.25468638  5.90462294  4.13799857\n",
      "  2.74993656  5.14749821]\n",
      "xtrain =  [ 5.77843549  3.00231147  2.6237491   5.02131076  1.86662437  3.50706129\n",
      "  2.74993656  1.2356871   5.90462294  1.99281183]\n",
      "(50,)\n"
     ]
    }
   ],
   "source": [
    "def split_data(x, y, ratio, seed=1):\n",
    "    \"\"\"split the dataset based on the split ratio.\"\"\"\n",
    "    # set seed\n",
    "    np.random.seed(seed)\n",
    "    # ***************************************************\n",
    "    # split the data based on the given ratio: TODO\n",
    "    indices=np.arange(x.shape[0])\n",
    "    np.random.shuffle(indices)\n",
    "    \n",
    "    #upperbound for the ratio : \n",
    "    up=int(ratio * x.shape[0])\n",
    "    #creation of the data sets\n",
    "    xtrain=x[indices[0:up]]\n",
    "    xtest=x[indices[up:]]\n",
    "    ytrain=y[indices[0:up]]\n",
    "    ytest=y[indices[up:]]\n",
    "    #returning the result\n",
    "    return xtrain,xtest,ytrain,ytest\n",
    "\n",
    "#testing the function : OK\n",
    "ratio=0.2\n",
    "xtrain,xtest,ytrain,ytest=split_data(x, y, ratio)\n",
    "print(\"x = \", x)\n",
    "print(\"xtrain = \", xtrain)\n",
    "print(x.shape)\n",
    "\n"
   ]
  },
  {
   "cell_type": "markdown",
   "metadata": {},
   "source": [
    "Then, test your `split_data` function below."
   ]
  },
  {
   "cell_type": "code",
   "execution_count": 35,
   "metadata": {
    "collapsed": false
   },
   "outputs": [
    {
     "name": "stdout",
     "output_type": "stream",
     "text": [
      "proportion=0.9, degree=1, Training RMSE=0.455, Testing RMSE=0.621\n",
      "proportion=0.9, degree=3, Training RMSE=0.264, Testing RMSE=0.214\n",
      "proportion=0.9, degree=7, Training RMSE=0.257, Testing RMSE=0.189\n",
      "proportion=0.9, degree=12, Training RMSE=6.898, Testing RMSE=4.588\n",
      "proportion=0.5, degree=1, Training RMSE=0.400, Testing RMSE=0.553\n",
      "proportion=0.5, degree=3, Training RMSE=0.237, Testing RMSE=0.306\n",
      "proportion=0.5, degree=7, Training RMSE=0.218, Testing RMSE=0.336\n",
      "proportion=0.5, degree=12, Training RMSE=1.097, Testing RMSE=1.276\n",
      "proportion=0.1, degree=1, Training RMSE=0.453, Testing RMSE=0.748\n",
      "proportion=0.1, degree=3, Training RMSE=0.111, Testing RMSE=0.674\n",
      "proportion=0.1, degree=7, Training RMSE=1.375, Testing RMSE=2.094\n",
      "proportion=0.1, degree=12, Training RMSE=5.416, Testing RMSE=67.334\n"
     ]
    }
   ],
   "source": [
    "def train_test_split_demo(x, y, degree, ratio, seed):\n",
    "    \"\"\"polynomial regression with different split ratios and different degrees.\"\"\"\n",
    "    \n",
    "    #split the datas and return the data sets\n",
    "    xtrain,xtest,ytrain,ytest=split_data(x, y, ratio)\n",
    "    # ***************************************************\n",
    "    #transform the data set through polynomial basis\n",
    "    phitrain= build_poly(xtrain, degree)\n",
    "    phitest= build_poly(xtest, degree)\n",
    "    # ***************************************************\n",
    "    #train the model on training set\n",
    "    mse_tr,w= least_squares(ytrain, phitrain)\n",
    "    # ***************************************************\n",
    "    #compute the rmse of the training\n",
    "    rmse_tr= (2*mse_tr)**(0.5)\n",
    "    #compute the rmse for the test data\n",
    "    mse_te= compute_loss(ytest, phitest, w)\n",
    "    rmse_te=(2*mse_te)**(0.5)\n",
    "    # ***************************************************\n",
    "    print(\"proportion={p}, degree={d}, Training RMSE={tr:.3f}, Testing RMSE={te:.3f}\".format(\n",
    "          p=ratio, d=degree, tr=rmse_tr, te=rmse_te))\n",
    "\n",
    "seed = 6\n",
    "degrees = [1, 3, 7, 12]\n",
    "split_ratios = [0.9, 0.5, 0.1]\n",
    "\n",
    "for split_ratio in split_ratios:\n",
    "    for degree in degrees:\n",
    "        train_test_split_demo(x, y, degree, split_ratio, seed)"
   ]
  },
  {
   "cell_type": "markdown",
   "metadata": {},
   "source": [
    "# Ridge Regression\n",
    "Please fill in the function below."
   ]
  },
  {
   "cell_type": "code",
   "execution_count": 36,
   "metadata": {
    "collapsed": false
   },
   "outputs": [],
   "source": [
    "def ridge_regression(y, tx, lamb):\n",
    "    \"\"\"implement ridge regression.\"\"\"\n",
    "    # analytical solution\n",
    "    gram= np.dot(np.transpose(tx),tx)\n",
    "    w_ridge= np.dot(np.dot(np.linalg.inv(gram+lamb*np.identity(gram.shape[0])),np.transpose(tx)),y)\n",
    "    # calculate the error (cost function)\n",
    "    rr_cost= compute_loss(y,tx,w_ridge)+lamb*(np.linalg.norm(w_ridge)**2)\n",
    "    # return the cost and the optimal weight\n",
    "    return rr_cost, w_ridge\n",
    "\n",
    "#test of the function : lamb= 0 ok same result than least square\n",
    "#phi=build_poly(x, degree)\n",
    "#rr_cost,w_ridge= ridge_regression(y,phi,0)\n",
    "#rmse=(2*rr_cost)**(0.5)\n",
    "#print(rmse)"
   ]
  },
  {
   "cell_type": "code",
   "execution_count": 40,
   "metadata": {
    "collapsed": false
   },
   "outputs": [
    {
     "name": "stdout",
     "output_type": "stream",
     "text": [
      "[ 5.14749821  2.6237491   5.02131076  0.1         5.65224803  0.35237491\n",
      "  3.88562366  4.39037348  1.61424946  1.99281183  2.74993656  2.11899928\n",
      "  2.87612401  3.50706129  4.76893584  4.26418602  1.74043692  2.24518674\n",
      "  4.13799857  6.0308104   0.98331219  1.2356871   5.52606058  0.47856237\n",
      "  1.10949964]\n",
      "[ 3.7594362   5.27368567  0.73093728  1.48806201  5.77843549  5.90462294\n",
      "  0.85712473  1.86662437  6.28318531  0.22618746  3.38087384  4.64274839\n",
      "  4.01181111  2.49756165  3.63324875  4.8951233   1.36187455  6.15699785\n",
      "  3.25468638  5.39987312  3.12849893  4.51656093  3.00231147  2.37137419\n",
      "  0.60474982]\n"
     ]
    },
    {
     "data": {
      "image/png": "[encoded data removed]",
      "text/plain": [
       "<matplotlib.figure.Figure at 0x10d8b1908>"
      ]
     },
     "metadata": {},
     "output_type": "display_data"
    }
   ],
   "source": [
    "def ridge_regression_demo(x, y, degree, ratio, seed):\n",
    "    \"\"\"ridge regression demo.\"\"\"\n",
    "    #initializing the cost and lambda vectors\n",
    "    tr_costs=[]\n",
    "    te_costs=[]\n",
    "    lambs=[]\n",
    "    # define parameter\n",
    "    lambdas = np.logspace(-3, 1, 10)    \n",
    "    # ***************************************************\n",
    "    # split the data \n",
    "    xtrain, xtest, ytrain, ytest= split_data(x, y, ratio, seed)\n",
    "    print(xtrain)\n",
    "    print(xtest)\n",
    "    # ***************************************************\n",
    "    # form train and test data with polynomial basis function\n",
    "    phitrain= build_poly(xtrain, degree)\n",
    "    phitest= build_poly(xtest, degree)\n",
    "    # ***************************************************\n",
    "    # ridge regression with different lambda: \n",
    "    for lamb in lambdas:\n",
    "        # training the model thanks to the training set\n",
    "        rr_cost_tr, w_ridge= ridge_regression(ytrain, phitrain, lamb)\n",
    "        # computing the rmse for the training and test set\n",
    "        tr_mse= compute_loss(ytrain, phitrain, w_ridge)\n",
    "        tr_rmse=(2*tr_mse)**(0.5)\n",
    "        te_mse= compute_loss(ytest, phitest, w_ridge)\n",
    "        te_rmse=(2*te_mse)**(0.5)\n",
    "        #saving the costs and lambdas\n",
    "        tr_costs.append(tr_rmse)\n",
    "        te_costs.append(te_rmse)\n",
    "        lambs.append(lamb)\n",
    "    # ***************************************************\n",
    "    # plot the results\n",
    "    z=np.zeros((len(lambs),2))\n",
    "    z[:,0]=tr_costs\n",
    "    z[:,1]=te_costs\n",
    "    p1=plt.plot(lambs,tr_costs,color='b')\n",
    "    p2=plt.plot(lambs,te_costs,color='r')\n",
    "    plt.xscale('log')\n",
    "    plt.legend([\"training set\", \"test set\"])\n",
    "    plt.title(\"rmse values in function of lambda\")\n",
    "    plt.show()\n",
    "    \n",
    "seed = 6\n",
    "degree = 7\n",
    "split_ratio = 0.5\n",
    "ridge_regression_demo(x, y, degree, split_ratio, seed)"
   ]
  },
  {
   "cell_type": "code",
   "execution_count": null,
   "metadata": {
    "collapsed": true
   },
   "outputs": [],
   "source": [
    "[ 0.35237491  4.8951233   1.86662437  3.50706129  3.38087384  0.73093728\n",
    "  3.88562366  5.65224803  6.28318531  2.37137419  0.60474982  3.63324875\n",
    "  0.85712473  2.49756165  1.61424946  5.39987312  6.15699785  6.0308104\n",
    "  0.47856237  2.87612401  4.51656093  0.98331219  1.10949964  0.1\n",
    "  2.11899928]\n",
    "6\n",
    "[ 1.36187455  4.01181111  5.77843549  4.26418602  1.2356871   2.24518674\n",
    "  1.99281183  1.48806201  4.64274839  4.39037348  3.00231147  0.22618746\n",
    "  5.27368567  5.02131076  5.52606058  2.6237491   4.76893584  3.12849893\n",
    "  1.74043692  3.7594362   3.25468638  5.90462294  4.13799857  2.74993656\n",
    "  5.14749821]"
   ]
  },
  {
   "cell_type": "markdown",
   "metadata": {
    "collapsed": true
   },
   "source": []
  },
  {
   "cell_type": "code",
   "execution_count": null,
   "metadata": {
    "collapsed": true
   },
   "outputs": [],
   "source": []
  },
  {
   "cell_type": "code",
   "execution_count": null,
   "metadata": {
    "collapsed": true
   },
   "outputs": [],
   "source": []
  },
  {
   "cell_type": "code",
   "execution_count": null,
   "metadata": {
    "collapsed": true
   },
   "outputs": [],
   "source": []
  }
 ],
 "metadata": {
  "anaconda-cloud": {},
  "kernelspec": {
   "display_name": "Python [Root]",
   "language": "python",
   "name": "Python [Root]"
  },
  "language_info": {
   "codemirror_mode": {
    "name": "ipython",
    "version": 3
   },
   "file_extension": ".py",
   "mimetype": "text/x-python",
   "name": "python",
   "nbconvert_exporter": "python",
   "pygments_lexer": "ipython3",
   "version": "3.5.2"
  }
 },
 "nbformat": 4,
 "nbformat_minor": 0
}
